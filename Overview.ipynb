{
 "cells": [
  {
   "cell_type": "code",
   "execution_count": 1,
   "metadata": {},
   "outputs": [],
   "source": [
    "import svgling"
   ]
  },
  {
   "cell_type": "markdown",
   "metadata": {},
   "source": [
    "# Overview of `svgling`\n",
    "\n",
    "### Kyle Rawlins, [kgr@jhu.edu](kgr@jhu.edu)\n",
    "\n",
    "This package is a pure python package for rendering linguistics-style (constituent) trees in SVG. It accepts trees defined in terms of lists of lists (really, anything indexable) and strings, as well as `nltk.Tree` objects (or anything with the same API).\n",
    "\n",
    "The `nltk` interface is described below; the list interface is pretty straightforward from bracketing notation. (In what follows, \"list\" is used a generic term that covers any indexable structure, including python lists and tuples.) The first element of the list is the label of a parent node, and any subsequent members of the list are daughter nodes. A parent node without a daughter node is a leaf node (as are non-list strings).\n",
    "\n",
    "For convenient use in Jupyter notebooks, the main function to try is `svgling.draw_tree`:"
   ]
  },
  {
   "cell_type": "code",
   "execution_count": 2,
   "metadata": {},
   "outputs": [
    {
     "data": {
      "image/svg+xml": [
       "<svg baseProfile=\"full\" height=\"5em\" style=\"font-family: times, serif; font-weight:normal; font-style: normal;\" version=\"1.1\" width=\"4em\" xmlns=\"http://www.w3.org/2000/svg\" xmlns:ev=\"http://www.w3.org/2001/xml-events\" xmlns:xlink=\"http://www.w3.org/1999/xlink\"><defs /><svg width=\"100%\" x=\"0\" y=\"0\"><defs /><text text-anchor=\"middle\" x=\"50%\" y=\"1em\">S</text></svg><svg width=\"50%\" x=\"0%\" y=\"3em\"><defs /><svg width=\"100%\" x=\"0\" y=\"0\"><defs /><text text-anchor=\"middle\" x=\"50%\" y=\"1em\">NP</text></svg></svg><line stroke=\"black\" x1=\"50%\" x2=\"25%\" y1=\"1.2em\" y2=\"3em\" /><svg width=\"50%\" x=\"50%\" y=\"3em\"><defs /><svg width=\"100%\" x=\"0\" y=\"0\"><defs /><text text-anchor=\"middle\" x=\"50%\" y=\"1em\">VP</text></svg></svg><line stroke=\"black\" x1=\"50%\" x2=\"75%\" y1=\"1.2em\" y2=\"3em\" /></svg>"
      ],
      "text/plain": [
       "<svgling.core.TreeLayout at 0x1a22d43198>"
      ]
     },
     "execution_count": 2,
     "metadata": {},
     "output_type": "execute_result"
    }
   ],
   "source": [
    "svgling.draw_tree((\"S\", \"NP\", \"VP\"))"
   ]
  },
  {
   "cell_type": "markdown",
   "metadata": {},
   "source": [
    "As a shortcut, the outer bracketing here can be omitted:"
   ]
  },
  {
   "cell_type": "code",
   "execution_count": 3,
   "metadata": {},
   "outputs": [
    {
     "data": {
      "image/svg+xml": [
       "<svg baseProfile=\"full\" height=\"8em\" style=\"font-family: times, serif; font-weight:normal; font-style: normal;\" version=\"1.1\" width=\"4em\" xmlns=\"http://www.w3.org/2000/svg\" xmlns:ev=\"http://www.w3.org/2001/xml-events\" xmlns:xlink=\"http://www.w3.org/1999/xlink\"><defs /><svg width=\"100%\" x=\"0\" y=\"0\"><defs /><text text-anchor=\"middle\" x=\"50%\" y=\"1em\">S</text></svg><svg width=\"50%\" x=\"0%\" y=\"3em\"><defs /><svg width=\"100%\" x=\"0\" y=\"0\"><defs /><text text-anchor=\"middle\" x=\"50%\" y=\"1em\">NP</text></svg></svg><line stroke=\"black\" x1=\"50%\" x2=\"25%\" y1=\"1.2em\" y2=\"3em\" /><svg width=\"50%\" x=\"50%\" y=\"3em\"><defs /><svg width=\"100%\" x=\"0\" y=\"0\"><defs /><text text-anchor=\"middle\" x=\"50%\" y=\"1em\">VP</text></svg><svg width=\"100%\" x=\"0%\" y=\"3em\"><defs /><svg width=\"100%\" x=\"0\" y=\"0\"><defs /><text text-anchor=\"middle\" x=\"50%\" y=\"1em\">V</text></svg></svg><line stroke=\"black\" x1=\"50%\" x2=\"50%\" y1=\"1.2em\" y2=\"3em\" /></svg><line stroke=\"black\" x1=\"50%\" x2=\"75%\" y1=\"1.2em\" y2=\"3em\" /></svg>"
      ],
      "text/plain": [
       "<svgling.core.TreeLayout at 0x1a22d43d68>"
      ]
     },
     "execution_count": 3,
     "metadata": {},
     "output_type": "execute_result"
    }
   ],
   "source": [
    "svgling.draw_tree(\"S\", \"NP\", (\"VP\", \"V\"))"
   ]
  },
  {
   "cell_type": "markdown",
   "metadata": {},
   "source": [
    "While multi-line nodes are generally not possible, they are allowed for leaf nodes. Simply provide the leaf node as a string that includes `\\n` where a linebreak is desired. This example also shows how to get the leaf nodes to be lined up with each other. (The following example is from Carnie 2013, *Syntax: a generative introduction (3rd ed.)*, p. 93.)"
   ]
  },
  {
   "cell_type": "code",
   "execution_count": 5,
   "metadata": {},
   "outputs": [
    {
     "data": {
      "image/svg+xml": [
       "<svg baseProfile=\"full\" height=\"15em\" style=\"font-family: times, serif; font-weight:normal; font-style: normal;\" version=\"1.1\" width=\"23em\" xmlns=\"http://www.w3.org/2000/svg\" xmlns:ev=\"http://www.w3.org/2001/xml-events\" xmlns:xlink=\"http://www.w3.org/1999/xlink\"><defs /><svg width=\"100%\" x=\"0\" y=\"0\"><defs /><text text-anchor=\"middle\" x=\"50%\" y=\"1em\">TP</text></svg><svg width=\"50%\" x=\"0%\" y=\"3em\"><defs /><svg width=\"100%\" x=\"0\" y=\"0\"><defs /><text text-anchor=\"middle\" x=\"50%\" y=\"1em\">NP</text></svg><svg width=\"21.7391%\" x=\"0%\" y=\"9em\"><defs /><svg width=\"100%\" x=\"0\" y=\"0\"><defs /><text text-anchor=\"middle\" x=\"50%\" y=\"1em\">D</text><text text-anchor=\"middle\" x=\"50%\" y=\"2em\">The</text></svg></svg><line stroke=\"black\" x1=\"50%\" x2=\"10.8696%\" y1=\"1.2em\" y2=\"9em\" /><svg width=\"56.5217%\" x=\"21.7391%\" y=\"3em\"><defs /><svg width=\"100%\" x=\"0\" y=\"0\"><defs /><text text-anchor=\"middle\" x=\"50%\" y=\"1em\">AdjP</text></svg><svg width=\"46.1538%\" x=\"0%\" y=\"3em\"><defs /><svg width=\"100%\" x=\"0\" y=\"0\"><defs /><text text-anchor=\"middle\" x=\"50%\" y=\"1em\">AdvP</text></svg><svg width=\"100%\" x=\"0%\" y=\"3em\"><defs /><svg width=\"100%\" x=\"0\" y=\"0\"><defs /><text text-anchor=\"middle\" x=\"50%\" y=\"1em\">Adv</text><text text-anchor=\"middle\" x=\"50%\" y=\"2em\">very</text></svg></svg><line stroke=\"black\" x1=\"50%\" x2=\"50%\" y1=\"1.2em\" y2=\"3em\" /></svg><line stroke=\"black\" x1=\"50%\" x2=\"23.0769%\" y1=\"1.2em\" y2=\"3em\" /><svg width=\"53.8462%\" x=\"46.1538%\" y=\"6em\"><defs /><svg width=\"100%\" x=\"0\" y=\"0\"><defs /><text text-anchor=\"middle\" x=\"50%\" y=\"1em\">Adj</text><text text-anchor=\"middle\" x=\"50%\" y=\"2em\">small</text></svg></svg><line stroke=\"black\" x1=\"50%\" x2=\"73.0769%\" y1=\"1.2em\" y2=\"6em\" /></svg><line stroke=\"black\" x1=\"50%\" x2=\"50%\" y1=\"1.2em\" y2=\"3em\" /><svg width=\"21.7391%\" x=\"78.2609%\" y=\"9em\"><defs /><svg width=\"100%\" x=\"0\" y=\"0\"><defs /><text text-anchor=\"middle\" x=\"50%\" y=\"1em\">N</text><text text-anchor=\"middle\" x=\"50%\" y=\"2em\">boy</text></svg></svg><line stroke=\"black\" x1=\"50%\" x2=\"89.1304%\" y1=\"1.2em\" y2=\"9em\" /></svg><line stroke=\"black\" x1=\"50%\" x2=\"25%\" y1=\"1.2em\" y2=\"3em\" /><svg width=\"50%\" x=\"50%\" y=\"3em\"><defs /><svg width=\"100%\" x=\"0\" y=\"0\"><defs /><text text-anchor=\"middle\" x=\"50%\" y=\"1em\">VP</text></svg><svg width=\"34.7826%\" x=\"0%\" y=\"9em\"><defs /><svg width=\"100%\" x=\"0\" y=\"0\"><defs /><text text-anchor=\"middle\" x=\"50%\" y=\"1em\">V</text><text text-anchor=\"middle\" x=\"50%\" y=\"2em\">kissed</text></svg></svg><line stroke=\"black\" x1=\"50%\" x2=\"17.3913%\" y1=\"1.2em\" y2=\"9em\" /><svg width=\"65.2174%\" x=\"34.7826%\" y=\"3em\"><defs /><svg width=\"100%\" x=\"0\" y=\"0\"><defs /><text text-anchor=\"middle\" x=\"50%\" y=\"1em\">NP</text></svg><svg width=\"33.3333%\" x=\"0%\" y=\"6em\"><defs /><svg width=\"100%\" x=\"0\" y=\"0\"><defs /><text text-anchor=\"middle\" x=\"50%\" y=\"1em\">D</text><text text-anchor=\"middle\" x=\"50%\" y=\"2em\">the</text></svg></svg><line stroke=\"black\" x1=\"50%\" x2=\"16.6667%\" y1=\"1.2em\" y2=\"6em\" /><svg width=\"66.6667%\" x=\"33.3333%\" y=\"6em\"><defs /><svg width=\"100%\" x=\"0\" y=\"0\"><defs /><text text-anchor=\"middle\" x=\"50%\" y=\"1em\">N</text><text text-anchor=\"middle\" x=\"50%\" y=\"2em\">platypus</text></svg></svg><line stroke=\"black\" x1=\"50%\" x2=\"66.6667%\" y1=\"1.2em\" y2=\"6em\" /></svg><line stroke=\"black\" x1=\"50%\" x2=\"67.3913%\" y1=\"1.2em\" y2=\"3em\" /></svg><line stroke=\"black\" x1=\"50%\" x2=\"75%\" y1=\"1.2em\" y2=\"3em\" /></svg>"
      ],
      "text/plain": [
       "<svgling.core.TreeLayout at 0x1a22d780b8>"
      ]
     },
     "execution_count": 5,
     "metadata": {},
     "output_type": "execute_result"
    }
   ],
   "source": [
    "svgling.draw_tree(\"TP\", (\"NP\", \"D\\nThe\", (\"AdjP\", (\"AdvP\", \"Adv\\nvery\"), \"Adj\\nsmall\"), \"N\\nboy\"), (\"VP\", \"V\\nkissed\", (\"NP\", \"D\\nthe\", \"N\\nplatypus\")), leaf_nodes_align=True)"
   ]
  },
  {
   "cell_type": "code",
   "execution_count": null,
   "metadata": {},
   "outputs": [],
   "source": []
  },
  {
   "cell_type": "markdown",
   "metadata": {},
   "source": [
    "## Spacing options\n",
    "\n",
    "By default, `svgling` will attempt to adjust *horizontal spacing* based on the lengths of leaf nodes in a subtree. This typically produces the best results for natural language syntax trees. *Vertical spacing*, on the other hand, is for the most part a constant between-node value.\n",
    "\n",
    "Because `svgling` does (for now) only single-pass rendering, with no javascript, some of the spacing options may involve a certain amount of heuristic adjustment (because it is impossible to know exact text sizes before actually rendering them to a device). Please let me know if you find spacing bugs and I'll try to address them.\n",
    "\n",
    "Here are two somewhat more interesting trees, defined as lists, and various rendering options demonstrated on those trees."
   ]
  },
  {
   "cell_type": "code",
   "execution_count": 6,
   "metadata": {},
   "outputs": [],
   "source": [
    "t0 = (\"S\", (\"NP\", \"D\", \"N\"), (\"VP\", \"V\", (\"NP\", \"D\", \"N\")))\n",
    "t1 = (\"S\", (\"NP\", (\"D\", \"the\"), (\"N\", \"rhinoceros\")), (\"VP\", (\"V\", \"saw\"), (\"NP\", (\"D\", \"the\"), (\"N\", \"elephant\"))))"
   ]
  },
  {
   "cell_type": "markdown",
   "metadata": {},
   "source": [
    "Here are the default settings, which use text-width-based spacing (`HorizOptions.TEXT`):"
   ]
  },
  {
   "cell_type": "code",
   "execution_count": 7,
   "metadata": {},
   "outputs": [
    {
     "data": {
      "image/svg+xml": [
       "<svg baseProfile=\"full\" height=\"11em\" style=\"font-family: times, serif; font-weight:normal; font-style: normal;\" version=\"1.1\" width=\"7.5em\" xmlns=\"http://www.w3.org/2000/svg\" xmlns:ev=\"http://www.w3.org/2001/xml-events\" xmlns:xlink=\"http://www.w3.org/1999/xlink\"><defs /><svg width=\"100%\" x=\"0\" y=\"0\"><defs /><text text-anchor=\"middle\" x=\"50%\" y=\"1em\">S</text></svg><svg width=\"40%\" x=\"0%\" y=\"3em\"><defs /><svg width=\"100%\" x=\"0\" y=\"0\"><defs /><text text-anchor=\"middle\" x=\"50%\" y=\"1em\">NP</text></svg><svg width=\"50%\" x=\"0%\" y=\"3em\"><defs /><svg width=\"100%\" x=\"0\" y=\"0\"><defs /><text text-anchor=\"middle\" x=\"50%\" y=\"1em\">D</text></svg></svg><line stroke=\"black\" x1=\"50%\" x2=\"25%\" y1=\"1.2em\" y2=\"3em\" /><svg width=\"50%\" x=\"50%\" y=\"3em\"><defs /><svg width=\"100%\" x=\"0\" y=\"0\"><defs /><text text-anchor=\"middle\" x=\"50%\" y=\"1em\">N</text></svg></svg><line stroke=\"black\" x1=\"50%\" x2=\"75%\" y1=\"1.2em\" y2=\"3em\" /></svg><line stroke=\"black\" x1=\"50%\" x2=\"20%\" y1=\"1.2em\" y2=\"3em\" /><svg width=\"60%\" x=\"40%\" y=\"3em\"><defs /><svg width=\"100%\" x=\"0\" y=\"0\"><defs /><text text-anchor=\"middle\" x=\"50%\" y=\"1em\">VP</text></svg><svg width=\"33.3333%\" x=\"0%\" y=\"3em\"><defs /><svg width=\"100%\" x=\"0\" y=\"0\"><defs /><text text-anchor=\"middle\" x=\"50%\" y=\"1em\">V</text></svg></svg><line stroke=\"black\" x1=\"50%\" x2=\"16.6667%\" y1=\"1.2em\" y2=\"3em\" /><svg width=\"66.6667%\" x=\"33.3333%\" y=\"3em\"><defs /><svg width=\"100%\" x=\"0\" y=\"0\"><defs /><text text-anchor=\"middle\" x=\"50%\" y=\"1em\">NP</text></svg><svg width=\"50%\" x=\"0%\" y=\"3em\"><defs /><svg width=\"100%\" x=\"0\" y=\"0\"><defs /><text text-anchor=\"middle\" x=\"50%\" y=\"1em\">D</text></svg></svg><line stroke=\"black\" x1=\"50%\" x2=\"25%\" y1=\"1.2em\" y2=\"3em\" /><svg width=\"50%\" x=\"50%\" y=\"3em\"><defs /><svg width=\"100%\" x=\"0\" y=\"0\"><defs /><text text-anchor=\"middle\" x=\"50%\" y=\"1em\">N</text></svg></svg><line stroke=\"black\" x1=\"50%\" x2=\"75%\" y1=\"1.2em\" y2=\"3em\" /></svg><line stroke=\"black\" x1=\"50%\" x2=\"66.6667%\" y1=\"1.2em\" y2=\"3em\" /></svg><line stroke=\"black\" x1=\"50%\" x2=\"70%\" y1=\"1.2em\" y2=\"3em\" /></svg>"
      ],
      "text/plain": [
       "<svgling.core.TreeLayout at 0x1a22d7fcc0>"
      ]
     },
     "execution_count": 7,
     "metadata": {},
     "output_type": "execute_result"
    }
   ],
   "source": [
    "svgling.draw_tree(t0)"
   ]
  },
  {
   "cell_type": "code",
   "execution_count": 8,
   "metadata": {},
   "outputs": [
    {
     "data": {
      "image/svg+xml": [
       "<svg baseProfile=\"full\" height=\"14em\" style=\"font-family: times, serif; font-weight:normal; font-style: normal;\" version=\"1.1\" width=\"18.5em\" xmlns=\"http://www.w3.org/2000/svg\" xmlns:ev=\"http://www.w3.org/2001/xml-events\" xmlns:xlink=\"http://www.w3.org/1999/xlink\"><defs /><svg width=\"100%\" x=\"0\" y=\"0\"><defs /><text text-anchor=\"middle\" x=\"50%\" y=\"1em\">S</text></svg><svg width=\"45.9459%\" x=\"0%\" y=\"3em\"><defs /><svg width=\"100%\" x=\"0\" y=\"0\"><defs /><text text-anchor=\"middle\" x=\"50%\" y=\"1em\">NP</text></svg><svg width=\"29.4118%\" x=\"0%\" y=\"3em\"><defs /><svg width=\"100%\" x=\"0\" y=\"0\"><defs /><text text-anchor=\"middle\" x=\"50%\" y=\"1em\">D</text></svg><svg width=\"100%\" x=\"0%\" y=\"3em\"><defs /><svg width=\"100%\" x=\"0\" y=\"0\"><defs /><text text-anchor=\"middle\" x=\"50%\" y=\"1em\">the</text></svg></svg><line stroke=\"black\" x1=\"50%\" x2=\"50%\" y1=\"1.2em\" y2=\"3em\" /></svg><line stroke=\"black\" x1=\"50%\" x2=\"14.7059%\" y1=\"1.2em\" y2=\"3em\" /><svg width=\"70.5882%\" x=\"29.4118%\" y=\"3em\"><defs /><svg width=\"100%\" x=\"0\" y=\"0\"><defs /><text text-anchor=\"middle\" x=\"50%\" y=\"1em\">N</text></svg><svg width=\"100%\" x=\"0%\" y=\"3em\"><defs /><svg width=\"100%\" x=\"0\" y=\"0\"><defs /><text text-anchor=\"middle\" x=\"50%\" y=\"1em\">rhinoceros</text></svg></svg><line stroke=\"black\" x1=\"50%\" x2=\"50%\" y1=\"1.2em\" y2=\"3em\" /></svg><line stroke=\"black\" x1=\"50%\" x2=\"64.7059%\" y1=\"1.2em\" y2=\"3em\" /></svg><line stroke=\"black\" x1=\"50%\" x2=\"22.973%\" y1=\"1.2em\" y2=\"3em\" /><svg width=\"54.0541%\" x=\"45.9459%\" y=\"3em\"><defs /><svg width=\"100%\" x=\"0\" y=\"0\"><defs /><text text-anchor=\"middle\" x=\"50%\" y=\"1em\">VP</text></svg><svg width=\"25%\" x=\"0%\" y=\"3em\"><defs /><svg width=\"100%\" x=\"0\" y=\"0\"><defs /><text text-anchor=\"middle\" x=\"50%\" y=\"1em\">V</text></svg><svg width=\"100%\" x=\"0%\" y=\"3em\"><defs /><svg width=\"100%\" x=\"0\" y=\"0\"><defs /><text text-anchor=\"middle\" x=\"50%\" y=\"1em\">saw</text></svg></svg><line stroke=\"black\" x1=\"50%\" x2=\"50%\" y1=\"1.2em\" y2=\"3em\" /></svg><line stroke=\"black\" x1=\"50%\" x2=\"12.5%\" y1=\"1.2em\" y2=\"3em\" /><svg width=\"75%\" x=\"25%\" y=\"3em\"><defs /><svg width=\"100%\" x=\"0\" y=\"0\"><defs /><text text-anchor=\"middle\" x=\"50%\" y=\"1em\">NP</text></svg><svg width=\"33.3333%\" x=\"0%\" y=\"3em\"><defs /><svg width=\"100%\" x=\"0\" y=\"0\"><defs /><text text-anchor=\"middle\" x=\"50%\" y=\"1em\">D</text></svg><svg width=\"100%\" x=\"0%\" y=\"3em\"><defs /><svg width=\"100%\" x=\"0\" y=\"0\"><defs /><text text-anchor=\"middle\" x=\"50%\" y=\"1em\">the</text></svg></svg><line stroke=\"black\" x1=\"50%\" x2=\"50%\" y1=\"1.2em\" y2=\"3em\" /></svg><line stroke=\"black\" x1=\"50%\" x2=\"16.6667%\" y1=\"1.2em\" y2=\"3em\" /><svg width=\"66.6667%\" x=\"33.3333%\" y=\"3em\"><defs /><svg width=\"100%\" x=\"0\" y=\"0\"><defs /><text text-anchor=\"middle\" x=\"50%\" y=\"1em\">N</text></svg><svg width=\"100%\" x=\"0%\" y=\"3em\"><defs /><svg width=\"100%\" x=\"0\" y=\"0\"><defs /><text text-anchor=\"middle\" x=\"50%\" y=\"1em\">elephant</text></svg></svg><line stroke=\"black\" x1=\"50%\" x2=\"50%\" y1=\"1.2em\" y2=\"3em\" /></svg><line stroke=\"black\" x1=\"50%\" x2=\"66.6667%\" y1=\"1.2em\" y2=\"3em\" /></svg><line stroke=\"black\" x1=\"50%\" x2=\"62.5%\" y1=\"1.2em\" y2=\"3em\" /></svg><line stroke=\"black\" x1=\"50%\" x2=\"72.973%\" y1=\"1.2em\" y2=\"3em\" /></svg>"
      ],
      "text/plain": [
       "<svgling.core.TreeLayout at 0x1a22d84978>"
      ]
     },
     "execution_count": 8,
     "metadata": {},
     "output_type": "execute_result"
    }
   ],
   "source": [
    "svgling.draw_tree(t1)"
   ]
  },
  {
   "cell_type": "markdown",
   "metadata": {},
   "source": [
    "To customize the tree layout, you provide a `svgling.core.TreeOptions` object with various parameters set. Here are the two above trees rendered using even spacing. Without manual adjustment, this may cut off longer words, but it can look better for abstract trees with similar-width leaf nodes."
   ]
  },
  {
   "cell_type": "code",
   "execution_count": 32,
   "metadata": {},
   "outputs": [
    {
     "data": {
      "image/svg+xml": [
       "<svg baseProfile=\"full\" height=\"11em\" style=\"font-family: times, serif; font-weight:normal; font-style: normal;\" version=\"1.1\" width=\"12.5em\" xmlns=\"http://www.w3.org/2000/svg\" xmlns:ev=\"http://www.w3.org/2001/xml-events\" xmlns:xlink=\"http://www.w3.org/1999/xlink\"><defs /><svg width=\"100%\" x=\"0\" y=\"0\"><defs /><text text-anchor=\"middle\" x=\"50%\" y=\"1em\">S</text></svg><svg width=\"50%\" x=\"0%\" y=\"3em\"><defs /><svg width=\"100%\" x=\"0\" y=\"0\"><defs /><text text-anchor=\"middle\" x=\"50%\" y=\"1em\">NP</text></svg><svg width=\"50%\" x=\"0%\" y=\"3em\"><defs /><svg width=\"100%\" x=\"0\" y=\"0\"><defs /><text text-anchor=\"middle\" x=\"50%\" y=\"1em\">D</text></svg></svg><line stroke=\"black\" x1=\"50%\" x2=\"25%\" y1=\"1.2em\" y2=\"3em\" /><svg width=\"50%\" x=\"50%\" y=\"3em\"><defs /><svg width=\"100%\" x=\"0\" y=\"0\"><defs /><text text-anchor=\"middle\" x=\"50%\" y=\"1em\">N</text></svg></svg><line stroke=\"black\" x1=\"50%\" x2=\"75%\" y1=\"1.2em\" y2=\"3em\" /></svg><line stroke=\"black\" x1=\"50%\" x2=\"25%\" y1=\"1.2em\" y2=\"3em\" /><svg width=\"50%\" x=\"50%\" y=\"3em\"><defs /><svg width=\"100%\" x=\"0\" y=\"0\"><defs /><text text-anchor=\"middle\" x=\"50%\" y=\"1em\">VP</text></svg><svg width=\"50%\" x=\"0%\" y=\"3em\"><defs /><svg width=\"100%\" x=\"0\" y=\"0\"><defs /><text text-anchor=\"middle\" x=\"50%\" y=\"1em\">V</text></svg></svg><line stroke=\"black\" x1=\"50%\" x2=\"25%\" y1=\"1.2em\" y2=\"3em\" /><svg width=\"50%\" x=\"50%\" y=\"3em\"><defs /><svg width=\"100%\" x=\"0\" y=\"0\"><defs /><text text-anchor=\"middle\" x=\"50%\" y=\"1em\">NP</text></svg><svg width=\"50%\" x=\"0%\" y=\"3em\"><defs /><svg width=\"100%\" x=\"0\" y=\"0\"><defs /><text text-anchor=\"middle\" x=\"50%\" y=\"1em\">D</text></svg></svg><line stroke=\"black\" x1=\"50%\" x2=\"25%\" y1=\"1.2em\" y2=\"3em\" /><svg width=\"50%\" x=\"50%\" y=\"3em\"><defs /><svg width=\"100%\" x=\"0\" y=\"0\"><defs /><text text-anchor=\"middle\" x=\"50%\" y=\"1em\">N</text></svg></svg><line stroke=\"black\" x1=\"50%\" x2=\"75%\" y1=\"1.2em\" y2=\"3em\" /></svg><line stroke=\"black\" x1=\"50%\" x2=\"75%\" y1=\"1.2em\" y2=\"3em\" /></svg><line stroke=\"black\" x1=\"50%\" x2=\"75%\" y1=\"1.2em\" y2=\"3em\" /></svg>"
      ],
      "text/plain": [
       "<svgling.core.TreeLayout at 0x1a22e065c0>"
      ]
     },
     "execution_count": 32,
     "metadata": {},
     "output_type": "execute_result"
    }
   ],
   "source": [
    "svgling.draw_tree(t0, options=svgling.core.TreeOptions(horiz_spacing=svgling.core.HorizOptions.EVEN, leaf_padding=4))"
   ]
  },
  {
   "cell_type": "markdown",
   "metadata": {},
   "source": [
    "As a convenient shortcut, if you provide named parameters to a `draw_tree` call that doesn't have an `options` parameter, they will be interpreted as options. (An options argument will override any named parameters.) I will use this shortcut to illustrate the rest of the options."
   ]
  },
  {
   "cell_type": "code",
   "execution_count": 31,
   "metadata": {},
   "outputs": [
    {
     "data": {
      "image/svg+xml": [
       "<svg baseProfile=\"full\" height=\"14em\" style=\"font-family: times, serif; font-weight:normal; font-style: normal;\" version=\"1.1\" width=\"28.5em\" xmlns=\"http://www.w3.org/2000/svg\" xmlns:ev=\"http://www.w3.org/2001/xml-events\" xmlns:xlink=\"http://www.w3.org/1999/xlink\"><defs /><svg width=\"100%\" x=\"0\" y=\"0\"><defs /><text text-anchor=\"middle\" x=\"50%\" y=\"1em\">S</text></svg><svg width=\"50%\" x=\"0%\" y=\"3em\"><defs /><svg width=\"100%\" x=\"0\" y=\"0\"><defs /><text text-anchor=\"middle\" x=\"50%\" y=\"1em\">NP</text></svg><svg width=\"50%\" x=\"0%\" y=\"3em\"><defs /><svg width=\"100%\" x=\"0\" y=\"0\"><defs /><text text-anchor=\"middle\" x=\"50%\" y=\"1em\">D</text></svg><svg width=\"100%\" x=\"0%\" y=\"3em\"><defs /><svg width=\"100%\" x=\"0\" y=\"0\"><defs /><text text-anchor=\"middle\" x=\"50%\" y=\"1em\">the</text></svg></svg><line stroke=\"black\" x1=\"50%\" x2=\"50%\" y1=\"1.2em\" y2=\"3em\" /></svg><line stroke=\"black\" x1=\"50%\" x2=\"25%\" y1=\"1.2em\" y2=\"3em\" /><svg width=\"50%\" x=\"50%\" y=\"3em\"><defs /><svg width=\"100%\" x=\"0\" y=\"0\"><defs /><text text-anchor=\"middle\" x=\"50%\" y=\"1em\">N</text></svg><svg width=\"100%\" x=\"0%\" y=\"3em\"><defs /><svg width=\"100%\" x=\"0\" y=\"0\"><defs /><text text-anchor=\"middle\" x=\"50%\" y=\"1em\">rhinoceros</text></svg></svg><line stroke=\"black\" x1=\"50%\" x2=\"50%\" y1=\"1.2em\" y2=\"3em\" /></svg><line stroke=\"black\" x1=\"50%\" x2=\"75%\" y1=\"1.2em\" y2=\"3em\" /></svg><line stroke=\"black\" x1=\"50%\" x2=\"25%\" y1=\"1.2em\" y2=\"3em\" /><svg width=\"50%\" x=\"50%\" y=\"3em\"><defs /><svg width=\"100%\" x=\"0\" y=\"0\"><defs /><text text-anchor=\"middle\" x=\"50%\" y=\"1em\">VP</text></svg><svg width=\"50%\" x=\"0%\" y=\"3em\"><defs /><svg width=\"100%\" x=\"0\" y=\"0\"><defs /><text text-anchor=\"middle\" x=\"50%\" y=\"1em\">V</text></svg><svg width=\"100%\" x=\"0%\" y=\"3em\"><defs /><svg width=\"100%\" x=\"0\" y=\"0\"><defs /><text text-anchor=\"middle\" x=\"50%\" y=\"1em\">saw</text></svg></svg><line stroke=\"black\" x1=\"50%\" x2=\"50%\" y1=\"1.2em\" y2=\"3em\" /></svg><line stroke=\"black\" x1=\"50%\" x2=\"25%\" y1=\"1.2em\" y2=\"3em\" /><svg width=\"50%\" x=\"50%\" y=\"3em\"><defs /><svg width=\"100%\" x=\"0\" y=\"0\"><defs /><text text-anchor=\"middle\" x=\"50%\" y=\"1em\">NP</text></svg><svg width=\"50%\" x=\"0%\" y=\"3em\"><defs /><svg width=\"100%\" x=\"0\" y=\"0\"><defs /><text text-anchor=\"middle\" x=\"50%\" y=\"1em\">D</text></svg><svg width=\"100%\" x=\"0%\" y=\"3em\"><defs /><svg width=\"100%\" x=\"0\" y=\"0\"><defs /><text text-anchor=\"middle\" x=\"50%\" y=\"1em\">the</text></svg></svg><line stroke=\"black\" x1=\"50%\" x2=\"50%\" y1=\"1.2em\" y2=\"3em\" /></svg><line stroke=\"black\" x1=\"50%\" x2=\"25%\" y1=\"1.2em\" y2=\"3em\" /><svg width=\"50%\" x=\"50%\" y=\"3em\"><defs /><svg width=\"100%\" x=\"0\" y=\"0\"><defs /><text text-anchor=\"middle\" x=\"50%\" y=\"1em\">N</text></svg><svg width=\"100%\" x=\"0%\" y=\"3em\"><defs /><svg width=\"100%\" x=\"0\" y=\"0\"><defs /><text text-anchor=\"middle\" x=\"50%\" y=\"1em\">elephant</text></svg></svg><line stroke=\"black\" x1=\"50%\" x2=\"50%\" y1=\"1.2em\" y2=\"3em\" /></svg><line stroke=\"black\" x1=\"50%\" x2=\"75%\" y1=\"1.2em\" y2=\"3em\" /></svg><line stroke=\"black\" x1=\"50%\" x2=\"75%\" y1=\"1.2em\" y2=\"3em\" /></svg><line stroke=\"black\" x1=\"50%\" x2=\"75%\" y1=\"1.2em\" y2=\"3em\" /></svg>"
      ],
      "text/plain": [
       "<svgling.core.TreeLayout at 0x1a22dd38d0>"
      ]
     },
     "execution_count": 31,
     "metadata": {},
     "output_type": "execute_result"
    }
   ],
   "source": [
    "svgling.draw_tree(t1, horiz_spacing=svgling.core.HorizOptions.EVEN, leaf_padding=6)"
   ]
  },
  {
   "cell_type": "markdown",
   "metadata": {},
   "source": [
    "The third mode uses leaf node count, irrespective of the length of the contents of the leaf node, to adjust horizontal spacing."
   ]
  },
  {
   "cell_type": "code",
   "execution_count": 30,
   "metadata": {},
   "outputs": [
    {
     "data": {
      "image/svg+xml": [
       "<svg baseProfile=\"full\" height=\"11em\" style=\"font-family: times, serif; font-weight:normal; font-style: normal;\" version=\"1.1\" width=\"10em\" xmlns=\"http://www.w3.org/2000/svg\" xmlns:ev=\"http://www.w3.org/2001/xml-events\" xmlns:xlink=\"http://www.w3.org/1999/xlink\"><defs /><svg width=\"100%\" x=\"0\" y=\"0\"><defs /><text text-anchor=\"middle\" x=\"50%\" y=\"1em\">S</text></svg><svg width=\"50%\" x=\"0%\" y=\"3em\"><defs /><svg width=\"100%\" x=\"0\" y=\"0\"><defs /><text text-anchor=\"middle\" x=\"50%\" y=\"1em\">NP</text></svg><svg width=\"50%\" x=\"0%\" y=\"3em\"><defs /><svg width=\"100%\" x=\"0\" y=\"0\"><defs /><text text-anchor=\"middle\" x=\"50%\" y=\"1em\">D</text></svg></svg><line stroke=\"black\" x1=\"50%\" x2=\"25%\" y1=\"1.2em\" y2=\"3em\" /><svg width=\"50%\" x=\"50%\" y=\"3em\"><defs /><svg width=\"100%\" x=\"0\" y=\"0\"><defs /><text text-anchor=\"middle\" x=\"50%\" y=\"1em\">N</text></svg></svg><line stroke=\"black\" x1=\"50%\" x2=\"75%\" y1=\"1.2em\" y2=\"3em\" /></svg><line stroke=\"black\" x1=\"50%\" x2=\"25%\" y1=\"1.2em\" y2=\"3em\" /><svg width=\"50%\" x=\"50%\" y=\"3em\"><defs /><svg width=\"100%\" x=\"0\" y=\"0\"><defs /><text text-anchor=\"middle\" x=\"50%\" y=\"1em\">VP</text></svg><svg width=\"50%\" x=\"0%\" y=\"3em\"><defs /><svg width=\"100%\" x=\"0\" y=\"0\"><defs /><text text-anchor=\"middle\" x=\"50%\" y=\"1em\">V</text></svg></svg><line stroke=\"black\" x1=\"50%\" x2=\"25%\" y1=\"1.2em\" y2=\"3em\" /><svg width=\"50%\" x=\"50%\" y=\"3em\"><defs /><svg width=\"100%\" x=\"0\" y=\"0\"><defs /><text text-anchor=\"middle\" x=\"50%\" y=\"1em\">NP</text></svg><svg width=\"50%\" x=\"0%\" y=\"3em\"><defs /><svg width=\"100%\" x=\"0\" y=\"0\"><defs /><text text-anchor=\"middle\" x=\"50%\" y=\"1em\">D</text></svg></svg><line stroke=\"black\" x1=\"50%\" x2=\"25%\" y1=\"1.2em\" y2=\"3em\" /><svg width=\"50%\" x=\"50%\" y=\"3em\"><defs /><svg width=\"100%\" x=\"0\" y=\"0\"><defs /><text text-anchor=\"middle\" x=\"50%\" y=\"1em\">N</text></svg></svg><line stroke=\"black\" x1=\"50%\" x2=\"75%\" y1=\"1.2em\" y2=\"3em\" /></svg><line stroke=\"black\" x1=\"50%\" x2=\"75%\" y1=\"1.2em\" y2=\"3em\" /></svg><line stroke=\"black\" x1=\"50%\" x2=\"75%\" y1=\"1.2em\" y2=\"3em\" /></svg>"
      ],
      "text/plain": [
       "<svgling.core.TreeLayout at 0x1a22dfe3c8>"
      ]
     },
     "execution_count": 30,
     "metadata": {},
     "output_type": "execute_result"
    }
   ],
   "source": [
    "svgling.draw_tree(t0, horiz_spacing=svgling.core.HorizOptions.NODES, leaf_padding=3)"
   ]
  },
  {
   "cell_type": "code",
   "execution_count": 29,
   "metadata": {},
   "outputs": [
    {
     "data": {
      "image/svg+xml": [
       "<svg baseProfile=\"full\" height=\"14em\" style=\"font-family: times, serif; font-weight:normal; font-style: normal;\" version=\"1.1\" width=\"26em\" xmlns=\"http://www.w3.org/2000/svg\" xmlns:ev=\"http://www.w3.org/2001/xml-events\" xmlns:xlink=\"http://www.w3.org/1999/xlink\"><defs /><svg width=\"100%\" x=\"0\" y=\"0\"><defs /><text text-anchor=\"middle\" x=\"50%\" y=\"1em\">S</text></svg><svg width=\"50%\" x=\"0%\" y=\"3em\"><defs /><svg width=\"100%\" x=\"0\" y=\"0\"><defs /><text text-anchor=\"middle\" x=\"50%\" y=\"1em\">NP</text></svg><svg width=\"50%\" x=\"0%\" y=\"3em\"><defs /><svg width=\"100%\" x=\"0\" y=\"0\"><defs /><text text-anchor=\"middle\" x=\"50%\" y=\"1em\">D</text></svg><svg width=\"100%\" x=\"0%\" y=\"3em\"><defs /><svg width=\"100%\" x=\"0\" y=\"0\"><defs /><text text-anchor=\"middle\" x=\"50%\" y=\"1em\">the</text></svg></svg><line stroke=\"black\" x1=\"50%\" x2=\"50%\" y1=\"1.2em\" y2=\"3em\" /></svg><line stroke=\"black\" x1=\"50%\" x2=\"25%\" y1=\"1.2em\" y2=\"3em\" /><svg width=\"50%\" x=\"50%\" y=\"3em\"><defs /><svg width=\"100%\" x=\"0\" y=\"0\"><defs /><text text-anchor=\"middle\" x=\"50%\" y=\"1em\">N</text></svg><svg width=\"100%\" x=\"0%\" y=\"3em\"><defs /><svg width=\"100%\" x=\"0\" y=\"0\"><defs /><text text-anchor=\"middle\" x=\"50%\" y=\"1em\">rhinoceros</text></svg></svg><line stroke=\"black\" x1=\"50%\" x2=\"50%\" y1=\"1.2em\" y2=\"3em\" /></svg><line stroke=\"black\" x1=\"50%\" x2=\"75%\" y1=\"1.2em\" y2=\"3em\" /></svg><line stroke=\"black\" x1=\"50%\" x2=\"25%\" y1=\"1.2em\" y2=\"3em\" /><svg width=\"50%\" x=\"50%\" y=\"3em\"><defs /><svg width=\"100%\" x=\"0\" y=\"0\"><defs /><text text-anchor=\"middle\" x=\"50%\" y=\"1em\">VP</text></svg><svg width=\"50%\" x=\"0%\" y=\"3em\"><defs /><svg width=\"100%\" x=\"0\" y=\"0\"><defs /><text text-anchor=\"middle\" x=\"50%\" y=\"1em\">V</text></svg><svg width=\"100%\" x=\"0%\" y=\"3em\"><defs /><svg width=\"100%\" x=\"0\" y=\"0\"><defs /><text text-anchor=\"middle\" x=\"50%\" y=\"1em\">saw</text></svg></svg><line stroke=\"black\" x1=\"50%\" x2=\"50%\" y1=\"1.2em\" y2=\"3em\" /></svg><line stroke=\"black\" x1=\"50%\" x2=\"25%\" y1=\"1.2em\" y2=\"3em\" /><svg width=\"50%\" x=\"50%\" y=\"3em\"><defs /><svg width=\"100%\" x=\"0\" y=\"0\"><defs /><text text-anchor=\"middle\" x=\"50%\" y=\"1em\">NP</text></svg><svg width=\"50%\" x=\"0%\" y=\"3em\"><defs /><svg width=\"100%\" x=\"0\" y=\"0\"><defs /><text text-anchor=\"middle\" x=\"50%\" y=\"1em\">D</text></svg><svg width=\"100%\" x=\"0%\" y=\"3em\"><defs /><svg width=\"100%\" x=\"0\" y=\"0\"><defs /><text text-anchor=\"middle\" x=\"50%\" y=\"1em\">the</text></svg></svg><line stroke=\"black\" x1=\"50%\" x2=\"50%\" y1=\"1.2em\" y2=\"3em\" /></svg><line stroke=\"black\" x1=\"50%\" x2=\"25%\" y1=\"1.2em\" y2=\"3em\" /><svg width=\"50%\" x=\"50%\" y=\"3em\"><defs /><svg width=\"100%\" x=\"0\" y=\"0\"><defs /><text text-anchor=\"middle\" x=\"50%\" y=\"1em\">N</text></svg><svg width=\"100%\" x=\"0%\" y=\"3em\"><defs /><svg width=\"100%\" x=\"0\" y=\"0\"><defs /><text text-anchor=\"middle\" x=\"50%\" y=\"1em\">elephant</text></svg></svg><line stroke=\"black\" x1=\"50%\" x2=\"50%\" y1=\"1.2em\" y2=\"3em\" /></svg><line stroke=\"black\" x1=\"50%\" x2=\"75%\" y1=\"1.2em\" y2=\"3em\" /></svg><line stroke=\"black\" x1=\"50%\" x2=\"75%\" y1=\"1.2em\" y2=\"3em\" /></svg><line stroke=\"black\" x1=\"50%\" x2=\"75%\" y1=\"1.2em\" y2=\"3em\" /></svg>"
      ],
      "text/plain": [
       "<svgling.core.TreeLayout at 0x1a22df5240>"
      ]
     },
     "execution_count": 29,
     "metadata": {},
     "output_type": "execute_result"
    }
   ],
   "source": [
    "svgling.draw_tree(t1, horiz_spacing=svgling.core.HorizOptions.NODES, leaf_padding=5)"
   ]
  },
  {
   "cell_type": "markdown",
   "metadata": {},
   "source": [
    "By default, leaf node height will be determined by the depth of the leaf node. It is possible to set leaf nodes to all align with the lowest leaf node in the tree:"
   ]
  },
  {
   "cell_type": "code",
   "execution_count": 13,
   "metadata": {},
   "outputs": [
    {
     "data": {
      "image/svg+xml": [
       "<svg baseProfile=\"full\" height=\"11em\" style=\"font-family: times, serif; font-weight:normal; font-style: normal;\" version=\"1.1\" width=\"10em\" xmlns=\"http://www.w3.org/2000/svg\" xmlns:ev=\"http://www.w3.org/2001/xml-events\" xmlns:xlink=\"http://www.w3.org/1999/xlink\"><defs /><svg width=\"100%\" x=\"0\" y=\"0\"><defs /><text text-anchor=\"middle\" x=\"50%\" y=\"1em\">S</text></svg><svg width=\"40%\" x=\"0%\" y=\"3em\"><defs /><svg width=\"100%\" x=\"0\" y=\"0\"><defs /><text text-anchor=\"middle\" x=\"50%\" y=\"1em\">NP</text></svg><svg width=\"50%\" x=\"0%\" y=\"6em\"><defs /><svg width=\"100%\" x=\"0\" y=\"0\"><defs /><text text-anchor=\"middle\" x=\"50%\" y=\"1em\">D</text></svg></svg><line stroke=\"black\" x1=\"50%\" x2=\"25%\" y1=\"1.2em\" y2=\"6em\" /><svg width=\"50%\" x=\"50%\" y=\"6em\"><defs /><svg width=\"100%\" x=\"0\" y=\"0\"><defs /><text text-anchor=\"middle\" x=\"50%\" y=\"1em\">N</text></svg></svg><line stroke=\"black\" x1=\"50%\" x2=\"75%\" y1=\"1.2em\" y2=\"6em\" /></svg><line stroke=\"black\" x1=\"50%\" x2=\"20%\" y1=\"1.2em\" y2=\"3em\" /><svg width=\"60%\" x=\"40%\" y=\"3em\"><defs /><svg width=\"100%\" x=\"0\" y=\"0\"><defs /><text text-anchor=\"middle\" x=\"50%\" y=\"1em\">VP</text></svg><svg width=\"33.3333%\" x=\"0%\" y=\"6em\"><defs /><svg width=\"100%\" x=\"0\" y=\"0\"><defs /><text text-anchor=\"middle\" x=\"50%\" y=\"1em\">V</text></svg></svg><line stroke=\"black\" x1=\"50%\" x2=\"16.6667%\" y1=\"1.2em\" y2=\"6em\" /><svg width=\"66.6667%\" x=\"33.3333%\" y=\"3em\"><defs /><svg width=\"100%\" x=\"0\" y=\"0\"><defs /><text text-anchor=\"middle\" x=\"50%\" y=\"1em\">NP</text></svg><svg width=\"50%\" x=\"0%\" y=\"3em\"><defs /><svg width=\"100%\" x=\"0\" y=\"0\"><defs /><text text-anchor=\"middle\" x=\"50%\" y=\"1em\">D</text></svg></svg><line stroke=\"black\" x1=\"50%\" x2=\"25%\" y1=\"1.2em\" y2=\"3em\" /><svg width=\"50%\" x=\"50%\" y=\"3em\"><defs /><svg width=\"100%\" x=\"0\" y=\"0\"><defs /><text text-anchor=\"middle\" x=\"50%\" y=\"1em\">N</text></svg></svg><line stroke=\"black\" x1=\"50%\" x2=\"75%\" y1=\"1.2em\" y2=\"3em\" /></svg><line stroke=\"black\" x1=\"50%\" x2=\"66.6667%\" y1=\"1.2em\" y2=\"3em\" /></svg><line stroke=\"black\" x1=\"50%\" x2=\"70%\" y1=\"1.2em\" y2=\"3em\" /></svg>"
      ],
      "text/plain": [
       "<svgling.core.TreeLayout at 0x110d86c18>"
      ]
     },
     "execution_count": 13,
     "metadata": {},
     "output_type": "execute_result"
    }
   ],
   "source": [
    "svgling.draw_tree(t0, leaf_nodes_align=True, leaf_padding=3)"
   ]
  },
  {
   "cell_type": "code",
   "execution_count": 14,
   "metadata": {},
   "outputs": [
    {
     "data": {
      "image/svg+xml": [
       "<svg baseProfile=\"full\" height=\"14em\" style=\"font-family: times, serif; font-weight:normal; font-style: normal;\" version=\"1.1\" width=\"18.5em\" xmlns=\"http://www.w3.org/2000/svg\" xmlns:ev=\"http://www.w3.org/2001/xml-events\" xmlns:xlink=\"http://www.w3.org/1999/xlink\"><defs /><svg width=\"100%\" x=\"0\" y=\"0\"><defs /><text text-anchor=\"middle\" x=\"50%\" y=\"1em\">S</text></svg><svg width=\"45.9459%\" x=\"0%\" y=\"3em\"><defs /><svg width=\"100%\" x=\"0\" y=\"0\"><defs /><text text-anchor=\"middle\" x=\"50%\" y=\"1em\">NP</text></svg><svg width=\"29.4118%\" x=\"0%\" y=\"3em\"><defs /><svg width=\"100%\" x=\"0\" y=\"0\"><defs /><text text-anchor=\"middle\" x=\"50%\" y=\"1em\">D</text></svg><svg width=\"100%\" x=\"0%\" y=\"6em\"><defs /><svg width=\"100%\" x=\"0\" y=\"0\"><defs /><text text-anchor=\"middle\" x=\"50%\" y=\"1em\">the</text></svg></svg><line stroke=\"black\" x1=\"50%\" x2=\"50%\" y1=\"1.2em\" y2=\"6em\" /></svg><line stroke=\"black\" x1=\"50%\" x2=\"14.7059%\" y1=\"1.2em\" y2=\"3em\" /><svg width=\"70.5882%\" x=\"29.4118%\" y=\"3em\"><defs /><svg width=\"100%\" x=\"0\" y=\"0\"><defs /><text text-anchor=\"middle\" x=\"50%\" y=\"1em\">N</text></svg><svg width=\"100%\" x=\"0%\" y=\"6em\"><defs /><svg width=\"100%\" x=\"0\" y=\"0\"><defs /><text text-anchor=\"middle\" x=\"50%\" y=\"1em\">rhinoceros</text></svg></svg><line stroke=\"black\" x1=\"50%\" x2=\"50%\" y1=\"1.2em\" y2=\"6em\" /></svg><line stroke=\"black\" x1=\"50%\" x2=\"64.7059%\" y1=\"1.2em\" y2=\"3em\" /></svg><line stroke=\"black\" x1=\"50%\" x2=\"22.973%\" y1=\"1.2em\" y2=\"3em\" /><svg width=\"54.0541%\" x=\"45.9459%\" y=\"3em\"><defs /><svg width=\"100%\" x=\"0\" y=\"0\"><defs /><text text-anchor=\"middle\" x=\"50%\" y=\"1em\">VP</text></svg><svg width=\"25%\" x=\"0%\" y=\"3em\"><defs /><svg width=\"100%\" x=\"0\" y=\"0\"><defs /><text text-anchor=\"middle\" x=\"50%\" y=\"1em\">V</text></svg><svg width=\"100%\" x=\"0%\" y=\"6em\"><defs /><svg width=\"100%\" x=\"0\" y=\"0\"><defs /><text text-anchor=\"middle\" x=\"50%\" y=\"1em\">saw</text></svg></svg><line stroke=\"black\" x1=\"50%\" x2=\"50%\" y1=\"1.2em\" y2=\"6em\" /></svg><line stroke=\"black\" x1=\"50%\" x2=\"12.5%\" y1=\"1.2em\" y2=\"3em\" /><svg width=\"75%\" x=\"25%\" y=\"3em\"><defs /><svg width=\"100%\" x=\"0\" y=\"0\"><defs /><text text-anchor=\"middle\" x=\"50%\" y=\"1em\">NP</text></svg><svg width=\"33.3333%\" x=\"0%\" y=\"3em\"><defs /><svg width=\"100%\" x=\"0\" y=\"0\"><defs /><text text-anchor=\"middle\" x=\"50%\" y=\"1em\">D</text></svg><svg width=\"100%\" x=\"0%\" y=\"3em\"><defs /><svg width=\"100%\" x=\"0\" y=\"0\"><defs /><text text-anchor=\"middle\" x=\"50%\" y=\"1em\">the</text></svg></svg><line stroke=\"black\" x1=\"50%\" x2=\"50%\" y1=\"1.2em\" y2=\"3em\" /></svg><line stroke=\"black\" x1=\"50%\" x2=\"16.6667%\" y1=\"1.2em\" y2=\"3em\" /><svg width=\"66.6667%\" x=\"33.3333%\" y=\"3em\"><defs /><svg width=\"100%\" x=\"0\" y=\"0\"><defs /><text text-anchor=\"middle\" x=\"50%\" y=\"1em\">N</text></svg><svg width=\"100%\" x=\"0%\" y=\"3em\"><defs /><svg width=\"100%\" x=\"0\" y=\"0\"><defs /><text text-anchor=\"middle\" x=\"50%\" y=\"1em\">elephant</text></svg></svg><line stroke=\"black\" x1=\"50%\" x2=\"50%\" y1=\"1.2em\" y2=\"3em\" /></svg><line stroke=\"black\" x1=\"50%\" x2=\"66.6667%\" y1=\"1.2em\" y2=\"3em\" /></svg><line stroke=\"black\" x1=\"50%\" x2=\"62.5%\" y1=\"1.2em\" y2=\"3em\" /></svg><line stroke=\"black\" x1=\"50%\" x2=\"72.973%\" y1=\"1.2em\" y2=\"3em\" /></svg>"
      ],
      "text/plain": [
       "<svgling.core.TreeLayout at 0x1a22da7978>"
      ]
     },
     "execution_count": 14,
     "metadata": {},
     "output_type": "execute_result"
    }
   ],
   "source": [
    "svgling.draw_tree(t1, leaf_nodes_align=True)"
   ]
  },
  {
   "cell_type": "code",
   "execution_count": 15,
   "metadata": {},
   "outputs": [
    {
     "data": {
      "image/svg+xml": [
       "<svg baseProfile=\"full\" height=\"14em\" style=\"font-family: times, serif; font-weight:normal; font-style: normal;\" version=\"1.1\" width=\"22.5em\" xmlns=\"http://www.w3.org/2000/svg\" xmlns:ev=\"http://www.w3.org/2001/xml-events\" xmlns:xlink=\"http://www.w3.org/1999/xlink\"><defs /><svg width=\"100%\" x=\"0\" y=\"0\"><defs /><text text-anchor=\"middle\" x=\"50%\" y=\"1em\">S</text></svg><svg width=\"37.7778%\" x=\"0%\" y=\"3em\"><defs /><svg width=\"100%\" x=\"0\" y=\"0\"><defs /><text text-anchor=\"middle\" x=\"50%\" y=\"1em\">NP</text></svg><svg width=\"29.4118%\" x=\"0%\" y=\"3em\"><defs /><svg width=\"100%\" x=\"0\" y=\"0\"><defs /><text text-anchor=\"middle\" x=\"50%\" y=\"1em\">D</text></svg><svg width=\"100%\" x=\"0%\" y=\"6em\"><defs /><svg width=\"100%\" x=\"0\" y=\"0\"><defs /><text text-anchor=\"middle\" x=\"50%\" y=\"1em\">the</text></svg></svg><line stroke=\"black\" x1=\"50%\" x2=\"50%\" y1=\"1.2em\" y2=\"6em\" /></svg><line stroke=\"black\" x1=\"50%\" x2=\"14.7059%\" y1=\"1.2em\" y2=\"3em\" /><svg width=\"70.5882%\" x=\"29.4118%\" y=\"3em\"><defs /><svg width=\"100%\" x=\"0\" y=\"0\"><defs /><text text-anchor=\"middle\" x=\"50%\" y=\"1em\">N</text></svg><svg width=\"100%\" x=\"0%\" y=\"6em\"><defs /><svg width=\"100%\" x=\"0\" y=\"0\"><defs /><text text-anchor=\"middle\" x=\"50%\" y=\"1em\">rhinoceros</text></svg></svg><line stroke=\"black\" x1=\"50%\" x2=\"50%\" y1=\"1.2em\" y2=\"6em\" /></svg><line stroke=\"black\" x1=\"50%\" x2=\"64.7059%\" y1=\"1.2em\" y2=\"3em\" /></svg><line stroke=\"black\" x1=\"50%\" x2=\"18.8889%\" y1=\"1.2em\" y2=\"3em\" /><svg width=\"62.2222%\" x=\"37.7778%\" y=\"3em\"><defs /><svg width=\"100%\" x=\"0\" y=\"0\"><defs /><text text-anchor=\"middle\" x=\"50%\" y=\"1em\">VP</text></svg><svg width=\"46.4286%\" x=\"0%\" y=\"3em\"><defs /><svg width=\"100%\" x=\"0\" y=\"0\"><defs /><text text-anchor=\"middle\" x=\"50%\" y=\"1em\">V</text></svg><svg width=\"38.4615%\" x=\"0%\" y=\"6em\"><defs /><svg width=\"100%\" x=\"0\" y=\"0\"><defs /><text text-anchor=\"middle\" x=\"50%\" y=\"1em\">see</text></svg></svg><line stroke=\"black\" x1=\"50%\" x2=\"19.2308%\" y1=\"1.2em\" y2=\"6em\" /><svg width=\"61.5385%\" x=\"38.4615%\" y=\"6em\"><defs /><svg width=\"100%\" x=\"0\" y=\"0\"><defs /><text text-anchor=\"middle\" x=\"50%\" y=\"1em\">[PAST]</text></svg></svg><line stroke=\"black\" x1=\"50%\" x2=\"69.2308%\" y1=\"1.2em\" y2=\"6em\" /></svg><line stroke=\"black\" x1=\"50%\" x2=\"23.2143%\" y1=\"1.2em\" y2=\"3em\" /><svg width=\"53.5714%\" x=\"46.4286%\" y=\"3em\"><defs /><svg width=\"100%\" x=\"0\" y=\"0\"><defs /><text text-anchor=\"middle\" x=\"50%\" y=\"1em\">NP</text></svg><svg width=\"33.3333%\" x=\"0%\" y=\"3em\"><defs /><svg width=\"100%\" x=\"0\" y=\"0\"><defs /><text text-anchor=\"middle\" x=\"50%\" y=\"1em\">D</text></svg><svg width=\"100%\" x=\"0%\" y=\"3em\"><defs /><svg width=\"100%\" x=\"0\" y=\"0\"><defs /><text text-anchor=\"middle\" x=\"50%\" y=\"1em\">the</text></svg></svg><line stroke=\"black\" x1=\"50%\" x2=\"50%\" y1=\"1.2em\" y2=\"3em\" /></svg><line stroke=\"black\" x1=\"50%\" x2=\"16.6667%\" y1=\"1.2em\" y2=\"3em\" /><svg width=\"66.6667%\" x=\"33.3333%\" y=\"3em\"><defs /><svg width=\"100%\" x=\"0\" y=\"0\"><defs /><text text-anchor=\"middle\" x=\"50%\" y=\"1em\">N</text></svg><svg width=\"100%\" x=\"0%\" y=\"3em\"><defs /><svg width=\"100%\" x=\"0\" y=\"0\"><defs /><text text-anchor=\"middle\" x=\"50%\" y=\"1em\">elephant</text></svg></svg><line stroke=\"black\" x1=\"50%\" x2=\"50%\" y1=\"1.2em\" y2=\"3em\" /></svg><line stroke=\"black\" x1=\"50%\" x2=\"66.6667%\" y1=\"1.2em\" y2=\"3em\" /></svg><line stroke=\"black\" x1=\"50%\" x2=\"73.2143%\" y1=\"1.2em\" y2=\"3em\" /></svg><line stroke=\"black\" x1=\"50%\" x2=\"68.8889%\" y1=\"1.2em\" y2=\"3em\" /></svg>"
      ],
      "text/plain": [
       "<svgling.core.TreeLayout at 0x1a22db5320>"
      ]
     },
     "execution_count": 15,
     "metadata": {},
     "output_type": "execute_result"
    }
   ],
   "source": [
    "t2 = (\"S\", (\"NP\", (\"D\", \"the\"), (\"N\", \"rhinoceros\")), (\"VP\", (\"V\", \"see\", \"[PAST]\"), (\"NP\", (\"D\", \"the\"), (\"N\", \"elephant\"))))\n",
    "svgling.draw_tree(t2, leaf_nodes_align=True)"
   ]
  },
  {
   "cell_type": "markdown",
   "metadata": {},
   "source": [
    "Vertical spacing can be customized with `distance_to_daughter`, which stores a value in `em`s. Values less than about 1.5 are not recommended and will usually result in rendering problems. Here is an example of an extremely compact tree:"
   ]
  },
  {
   "cell_type": "code",
   "execution_count": 19,
   "metadata": {},
   "outputs": [
    {
     "data": {
      "image/svg+xml": [
       "<svg baseProfile=\"full\" height=\"7.6em\" style=\"font-family: times, serif; font-weight:normal; font-style: normal;\" version=\"1.1\" width=\"14em\" xmlns=\"http://www.w3.org/2000/svg\" xmlns:ev=\"http://www.w3.org/2001/xml-events\" xmlns:xlink=\"http://www.w3.org/1999/xlink\"><defs /><svg width=\"100%\" x=\"0\" y=\"0\"><defs /><text text-anchor=\"middle\" x=\"50%\" y=\"1em\">S</text></svg><svg width=\"47.8571%\" x=\"0%\" y=\"1.4em\"><defs /><svg width=\"100%\" x=\"0\" y=\"0\"><defs /><text text-anchor=\"middle\" x=\"50%\" y=\"1em\">NP</text></svg><svg width=\"23.8806%\" x=\"0%\" y=\"1.4em\"><defs /><svg width=\"100%\" x=\"0\" y=\"0\"><defs /><text text-anchor=\"middle\" x=\"50%\" y=\"1em\">D</text></svg><svg width=\"100%\" x=\"0%\" y=\"2.8em\"><defs /><svg width=\"100%\" x=\"0\" y=\"0\"><defs /><text text-anchor=\"middle\" x=\"50%\" y=\"1em\">the</text></svg></svg><line stroke=\"black\" x1=\"50%\" x2=\"50%\" y1=\"1.2em\" y2=\"2.8em\" /></svg><line stroke=\"black\" x1=\"50%\" x2=\"11.9403%\" y1=\"1.2em\" y2=\"1.4em\" /><svg width=\"76.1194%\" x=\"23.8806%\" y=\"1.4em\"><defs /><svg width=\"100%\" x=\"0\" y=\"0\"><defs /><text text-anchor=\"middle\" x=\"50%\" y=\"1em\">N</text></svg><svg width=\"100%\" x=\"0%\" y=\"2.8em\"><defs /><svg width=\"100%\" x=\"0\" y=\"0\"><defs /><text text-anchor=\"middle\" x=\"50%\" y=\"1em\">rhinoceros</text></svg></svg><line stroke=\"black\" x1=\"50%\" x2=\"50%\" y1=\"1.2em\" y2=\"2.8em\" /></svg><line stroke=\"black\" x1=\"50%\" x2=\"61.9403%\" y1=\"1.2em\" y2=\"1.4em\" /></svg><line stroke=\"black\" x1=\"50%\" x2=\"23.9286%\" y1=\"1.2em\" y2=\"1.4em\" /><svg width=\"52.1429%\" x=\"47.8571%\" y=\"1.4em\"><defs /><svg width=\"100%\" x=\"0\" y=\"0\"><defs /><text text-anchor=\"middle\" x=\"50%\" y=\"1em\">VP</text></svg><svg width=\"21.9178%\" x=\"0%\" y=\"1.4em\"><defs /><svg width=\"100%\" x=\"0\" y=\"0\"><defs /><text text-anchor=\"middle\" x=\"50%\" y=\"1em\">V</text></svg><svg width=\"100%\" x=\"0%\" y=\"2.8em\"><defs /><svg width=\"100%\" x=\"0\" y=\"0\"><defs /><text text-anchor=\"middle\" x=\"50%\" y=\"1em\">saw</text></svg></svg><line stroke=\"black\" x1=\"50%\" x2=\"50%\" y1=\"1.2em\" y2=\"2.8em\" /></svg><line stroke=\"black\" x1=\"50%\" x2=\"10.9589%\" y1=\"1.2em\" y2=\"1.4em\" /><svg width=\"78.0822%\" x=\"21.9178%\" y=\"1.4em\"><defs /><svg width=\"100%\" x=\"0\" y=\"0\"><defs /><text text-anchor=\"middle\" x=\"50%\" y=\"1em\">NP</text></svg><svg width=\"28.0702%\" x=\"0%\" y=\"1.4em\"><defs /><svg width=\"100%\" x=\"0\" y=\"0\"><defs /><text text-anchor=\"middle\" x=\"50%\" y=\"1em\">D</text></svg><svg width=\"100%\" x=\"0%\" y=\"1.4em\"><defs /><svg width=\"100%\" x=\"0\" y=\"0\"><defs /><text text-anchor=\"middle\" x=\"50%\" y=\"1em\">the</text></svg></svg><line stroke=\"black\" x1=\"50%\" x2=\"50%\" y1=\"1.2em\" y2=\"1.4em\" /></svg><line stroke=\"black\" x1=\"50%\" x2=\"14.0351%\" y1=\"1.2em\" y2=\"1.4em\" /><svg width=\"71.9298%\" x=\"28.0702%\" y=\"1.4em\"><defs /><svg width=\"100%\" x=\"0\" y=\"0\"><defs /><text text-anchor=\"middle\" x=\"50%\" y=\"1em\">N</text></svg><svg width=\"100%\" x=\"0%\" y=\"1.4em\"><defs /><svg width=\"100%\" x=\"0\" y=\"0\"><defs /><text text-anchor=\"middle\" x=\"50%\" y=\"1em\">elephant</text></svg></svg><line stroke=\"black\" x1=\"50%\" x2=\"50%\" y1=\"1.2em\" y2=\"1.4em\" /></svg><line stroke=\"black\" x1=\"50%\" x2=\"64.0351%\" y1=\"1.2em\" y2=\"1.4em\" /></svg><line stroke=\"black\" x1=\"50%\" x2=\"60.9589%\" y1=\"1.2em\" y2=\"1.4em\" /></svg><line stroke=\"black\" x1=\"50%\" x2=\"73.9286%\" y1=\"1.2em\" y2=\"1.4em\" /></svg>"
      ],
      "text/plain": [
       "<svgling.core.TreeLayout at 0x1a22dd6fd0>"
      ]
     },
     "execution_count": 19,
     "metadata": {},
     "output_type": "execute_result"
    }
   ],
   "source": [
    "svgling.draw_tree(t1, leaf_nodes_align=True, distance_to_daughter=0.4, leaf_padding=0.2)"
   ]
  },
  {
   "cell_type": "markdown",
   "metadata": {},
   "source": [
    "## NLTK integration\n",
    "\n",
    "The `svgling.draw_tree` function can handle nltk.Tree objects (or any object using the same API) transparently. Be warned that complex or multi-line labels won't work very well, though."
   ]
  },
  {
   "cell_type": "code",
   "execution_count": 20,
   "metadata": {},
   "outputs": [],
   "source": [
    "import nltk\n",
    "try:\n",
    "    del nltk.Tree._repr_png_ # if you're on a mac and want to prevent the annoying blank tk app from showing up, do this\n",
    "except:\n",
    "    pass\n",
    "t3 = nltk.Tree.fromstring(\"(S (NP (D the) (N elephant)) (VP (V saw) (NP (D the) (N rhinoceros))))\")"
   ]
  },
  {
   "cell_type": "code",
   "execution_count": 21,
   "metadata": {},
   "outputs": [
    {
     "data": {
      "image/svg+xml": [
       "<svg baseProfile=\"full\" height=\"14em\" style=\"font-family: times, serif; font-weight:normal; font-style: normal;\" version=\"1.1\" width=\"18.5em\" xmlns=\"http://www.w3.org/2000/svg\" xmlns:ev=\"http://www.w3.org/2001/xml-events\" xmlns:xlink=\"http://www.w3.org/1999/xlink\"><defs /><svg width=\"100%\" x=\"0\" y=\"0\"><defs /><text text-anchor=\"middle\" x=\"50%\" y=\"1em\">S</text></svg><svg width=\"40.5405%\" x=\"0%\" y=\"3em\"><defs /><svg width=\"100%\" x=\"0\" y=\"0\"><defs /><text text-anchor=\"middle\" x=\"50%\" y=\"1em\">NP</text></svg><svg width=\"33.3333%\" x=\"0%\" y=\"3em\"><defs /><svg width=\"100%\" x=\"0\" y=\"0\"><defs /><text text-anchor=\"middle\" x=\"50%\" y=\"1em\">D</text></svg><svg width=\"100%\" x=\"0%\" y=\"3em\"><defs /><svg width=\"100%\" x=\"0\" y=\"0\"><defs /><text text-anchor=\"middle\" x=\"50%\" y=\"1em\">the</text></svg></svg><line stroke=\"black\" x1=\"50%\" x2=\"50%\" y1=\"1.2em\" y2=\"3em\" /></svg><line stroke=\"black\" x1=\"50%\" x2=\"16.6667%\" y1=\"1.2em\" y2=\"3em\" /><svg width=\"66.6667%\" x=\"33.3333%\" y=\"3em\"><defs /><svg width=\"100%\" x=\"0\" y=\"0\"><defs /><text text-anchor=\"middle\" x=\"50%\" y=\"1em\">N</text></svg><svg width=\"100%\" x=\"0%\" y=\"3em\"><defs /><svg width=\"100%\" x=\"0\" y=\"0\"><defs /><text text-anchor=\"middle\" x=\"50%\" y=\"1em\">elephant</text></svg></svg><line stroke=\"black\" x1=\"50%\" x2=\"50%\" y1=\"1.2em\" y2=\"3em\" /></svg><line stroke=\"black\" x1=\"50%\" x2=\"66.6667%\" y1=\"1.2em\" y2=\"3em\" /></svg><line stroke=\"black\" x1=\"50%\" x2=\"20.2703%\" y1=\"1.2em\" y2=\"3em\" /><svg width=\"59.4595%\" x=\"40.5405%\" y=\"3em\"><defs /><svg width=\"100%\" x=\"0\" y=\"0\"><defs /><text text-anchor=\"middle\" x=\"50%\" y=\"1em\">VP</text></svg><svg width=\"22.7273%\" x=\"0%\" y=\"3em\"><defs /><svg width=\"100%\" x=\"0\" y=\"0\"><defs /><text text-anchor=\"middle\" x=\"50%\" y=\"1em\">V</text></svg><svg width=\"100%\" x=\"0%\" y=\"3em\"><defs /><svg width=\"100%\" x=\"0\" y=\"0\"><defs /><text text-anchor=\"middle\" x=\"50%\" y=\"1em\">saw</text></svg></svg><line stroke=\"black\" x1=\"50%\" x2=\"50%\" y1=\"1.2em\" y2=\"3em\" /></svg><line stroke=\"black\" x1=\"50%\" x2=\"11.3636%\" y1=\"1.2em\" y2=\"3em\" /><svg width=\"77.2727%\" x=\"22.7273%\" y=\"3em\"><defs /><svg width=\"100%\" x=\"0\" y=\"0\"><defs /><text text-anchor=\"middle\" x=\"50%\" y=\"1em\">NP</text></svg><svg width=\"29.4118%\" x=\"0%\" y=\"3em\"><defs /><svg width=\"100%\" x=\"0\" y=\"0\"><defs /><text text-anchor=\"middle\" x=\"50%\" y=\"1em\">D</text></svg><svg width=\"100%\" x=\"0%\" y=\"3em\"><defs /><svg width=\"100%\" x=\"0\" y=\"0\"><defs /><text text-anchor=\"middle\" x=\"50%\" y=\"1em\">the</text></svg></svg><line stroke=\"black\" x1=\"50%\" x2=\"50%\" y1=\"1.2em\" y2=\"3em\" /></svg><line stroke=\"black\" x1=\"50%\" x2=\"14.7059%\" y1=\"1.2em\" y2=\"3em\" /><svg width=\"70.5882%\" x=\"29.4118%\" y=\"3em\"><defs /><svg width=\"100%\" x=\"0\" y=\"0\"><defs /><text text-anchor=\"middle\" x=\"50%\" y=\"1em\">N</text></svg><svg width=\"100%\" x=\"0%\" y=\"3em\"><defs /><svg width=\"100%\" x=\"0\" y=\"0\"><defs /><text text-anchor=\"middle\" x=\"50%\" y=\"1em\">rhinoceros</text></svg></svg><line stroke=\"black\" x1=\"50%\" x2=\"50%\" y1=\"1.2em\" y2=\"3em\" /></svg><line stroke=\"black\" x1=\"50%\" x2=\"64.7059%\" y1=\"1.2em\" y2=\"3em\" /></svg><line stroke=\"black\" x1=\"50%\" x2=\"61.3636%\" y1=\"1.2em\" y2=\"3em\" /></svg><line stroke=\"black\" x1=\"50%\" x2=\"70.2703%\" y1=\"1.2em\" y2=\"3em\" /></svg>"
      ],
      "text/plain": [
       "<svgling.core.TreeLayout at 0x1a22ddd128>"
      ]
     },
     "execution_count": 21,
     "metadata": {},
     "output_type": "execute_result"
    }
   ],
   "source": [
    "svgling.draw_tree(t3)"
   ]
  },
  {
   "cell_type": "markdown",
   "metadata": {},
   "source": [
    "n.b. I'm not aware of any way to get `fromstring` to allow multi-line leafs, so if you want to do this in `nltk`, you'll need to construct the tree more directly. (You can supply options for trees drawn this way as usual.)"
   ]
  },
  {
   "cell_type": "code",
   "execution_count": 22,
   "metadata": {},
   "outputs": [
    {
     "data": {
      "image/svg+xml": [
       "<svg baseProfile=\"full\" height=\"9em\" style=\"font-family: times, serif; font-weight:normal; font-style: normal;\" version=\"1.1\" width=\"5em\" xmlns=\"http://www.w3.org/2000/svg\" xmlns:ev=\"http://www.w3.org/2001/xml-events\" xmlns:xlink=\"http://www.w3.org/1999/xlink\"><defs /><svg width=\"100%\" x=\"0\" y=\"0\"><defs /><text text-anchor=\"middle\" x=\"50%\" y=\"1em\">DP</text></svg><svg width=\"50%\" x=\"0%\" y=\"6em\"><defs /><svg width=\"100%\" x=\"0\" y=\"0\"><defs /><text text-anchor=\"middle\" x=\"50%\" y=\"1em\">D</text><text text-anchor=\"middle\" x=\"50%\" y=\"2em\">the</text></svg></svg><line stroke=\"black\" x1=\"50%\" x2=\"25%\" y1=\"1.2em\" y2=\"6em\" /><svg width=\"50%\" x=\"50%\" y=\"3em\"><defs /><svg width=\"100%\" x=\"0\" y=\"0\"><defs /><text text-anchor=\"middle\" x=\"50%\" y=\"1em\">NP</text></svg><svg width=\"100%\" x=\"0%\" y=\"3em\"><defs /><svg width=\"100%\" x=\"0\" y=\"0\"><defs /><text text-anchor=\"middle\" x=\"50%\" y=\"1em\">N</text><text text-anchor=\"middle\" x=\"50%\" y=\"2em\">cat</text></svg></svg><line stroke=\"black\" x1=\"50%\" x2=\"50%\" y1=\"1.2em\" y2=\"3em\" /></svg><line stroke=\"black\" x1=\"50%\" x2=\"75%\" y1=\"1.2em\" y2=\"3em\" /></svg>"
      ],
      "text/plain": [
       "<svgling.core.TreeLayout at 0x1a22de4a20>"
      ]
     },
     "execution_count": 22,
     "metadata": {},
     "output_type": "execute_result"
    }
   ],
   "source": [
    "from nltk import Tree\n",
    "svgling.draw_tree(Tree('DP', ['D\\nthe', Tree('NP', ['N\\ncat'])]), leaf_nodes_align=True)"
   ]
  },
  {
   "cell_type": "markdown",
   "metadata": {},
   "source": [
    "For convenience' sake, `svgling` will attempt to monkeypatch `nltk.Tree._repr_svg_` when imported (or reloaded). This means that as long as `svgling` is loaded, nltk trees should by default render using the svg format, overriding the default png-based renderer that is part of `nltk` (and its associated, fairly annoying, dependency on tk). To avoid the png rendering code altogether, you can use `del` to remove the relevant function (illustrated by the first cell in this section)."
   ]
  },
  {
   "cell_type": "code",
   "execution_count": 23,
   "metadata": {},
   "outputs": [
    {
     "data": {
      "image/svg+xml": [
       "<svg baseProfile=\"full\" height=\"14em\" style=\"font-family: times, serif; font-weight:normal; font-style: normal;\" version=\"1.1\" width=\"18.5em\" xmlns=\"http://www.w3.org/2000/svg\" xmlns:ev=\"http://www.w3.org/2001/xml-events\" xmlns:xlink=\"http://www.w3.org/1999/xlink\"><defs /><text text-anchor=\"middle\" x=\"50%\" y=\"1em\">S</text><svg width=\"40.5405%\" x=\"0%\" y=\"3em\"><defs /><text text-anchor=\"middle\" x=\"50%\" y=\"1em\">NP</text><svg width=\"33.3333%\" x=\"0%\" y=\"3em\"><defs /><text text-anchor=\"middle\" x=\"50%\" y=\"1em\">D</text><svg width=\"100%\" x=\"0%\" y=\"3em\"><defs /><text text-anchor=\"middle\" x=\"50%\" y=\"1em\">the</text></svg><line stroke=\"black\" x1=\"50%\" x2=\"50%\" y1=\"1.2em\" y2=\"3em\" /></svg><line stroke=\"black\" x1=\"50%\" x2=\"16.6667%\" y1=\"1.2em\" y2=\"3em\" /><svg width=\"66.6667%\" x=\"33.3333%\" y=\"3em\"><defs /><text text-anchor=\"middle\" x=\"50%\" y=\"1em\">N</text><svg width=\"100%\" x=\"0%\" y=\"3em\"><defs /><text text-anchor=\"middle\" x=\"50%\" y=\"1em\">elephant</text></svg><line stroke=\"black\" x1=\"50%\" x2=\"50%\" y1=\"1.2em\" y2=\"3em\" /></svg><line stroke=\"black\" x1=\"50%\" x2=\"66.6667%\" y1=\"1.2em\" y2=\"3em\" /></svg><line stroke=\"black\" x1=\"50%\" x2=\"20.2703%\" y1=\"1.2em\" y2=\"3em\" /><svg width=\"59.4595%\" x=\"40.5405%\" y=\"3em\"><defs /><text text-anchor=\"middle\" x=\"50%\" y=\"1em\">VP</text><svg width=\"22.7273%\" x=\"0%\" y=\"3em\"><defs /><text text-anchor=\"middle\" x=\"50%\" y=\"1em\">V</text><svg width=\"100%\" x=\"0%\" y=\"3em\"><defs /><text text-anchor=\"middle\" x=\"50%\" y=\"1em\">saw</text></svg><line stroke=\"black\" x1=\"50%\" x2=\"50%\" y1=\"1.2em\" y2=\"3em\" /></svg><line stroke=\"black\" x1=\"50%\" x2=\"11.3636%\" y1=\"1.2em\" y2=\"3em\" /><svg width=\"77.2727%\" x=\"22.7273%\" y=\"3em\"><defs /><text text-anchor=\"middle\" x=\"50%\" y=\"1em\">NP</text><svg width=\"29.4118%\" x=\"0%\" y=\"3em\"><defs /><text text-anchor=\"middle\" x=\"50%\" y=\"1em\">D</text><svg width=\"100%\" x=\"0%\" y=\"3em\"><defs /><text text-anchor=\"middle\" x=\"50%\" y=\"1em\">the</text></svg><line stroke=\"black\" x1=\"50%\" x2=\"50%\" y1=\"1.2em\" y2=\"3em\" /></svg><line stroke=\"black\" x1=\"50%\" x2=\"14.7059%\" y1=\"1.2em\" y2=\"3em\" /><svg width=\"70.5882%\" x=\"29.4118%\" y=\"3em\"><defs /><text text-anchor=\"middle\" x=\"50%\" y=\"1em\">N</text><svg width=\"100%\" x=\"0%\" y=\"3em\"><defs /><text text-anchor=\"middle\" x=\"50%\" y=\"1em\">rhinoceros</text></svg><line stroke=\"black\" x1=\"50%\" x2=\"50%\" y1=\"1.2em\" y2=\"3em\" /></svg><line stroke=\"black\" x1=\"50%\" x2=\"64.7059%\" y1=\"1.2em\" y2=\"3em\" /></svg><line stroke=\"black\" x1=\"50%\" x2=\"61.3636%\" y1=\"1.2em\" y2=\"3em\" /></svg><line stroke=\"black\" x1=\"50%\" x2=\"70.2703%\" y1=\"1.2em\" y2=\"3em\" /></svg>"
      ],
      "text/plain": [
       "Tree('S', [Tree('NP', [Tree('D', ['the']), Tree('N', ['elephant'])]), Tree('VP', [Tree('V', ['saw']), Tree('NP', [Tree('D', ['the']), Tree('N', ['rhinoceros'])])])])"
      ]
     },
     "execution_count": 23,
     "metadata": {},
     "output_type": "execute_result"
    }
   ],
   "source": [
    "t3"
   ]
  },
  {
   "cell_type": "markdown",
   "metadata": {},
   "source": [
    "The rendering options for trees rendered this way can be customized via `svgling.core.nltk_tree_options`, though I don't recommend messing with the spacing too much. This object is created as a default `svgling.core.TreeOptions()`, in case you need to reset it."
   ]
  },
  {
   "cell_type": "code",
   "execution_count": 24,
   "metadata": {},
   "outputs": [
    {
     "data": {
      "image/svg+xml": [
       "<svg baseProfile=\"full\" height=\"14em\" style=\"font-family: times, serif; font-weight:normal; font-style: normal;\" version=\"1.1\" width=\"18.5em\" xmlns=\"http://www.w3.org/2000/svg\" xmlns:ev=\"http://www.w3.org/2001/xml-events\" xmlns:xlink=\"http://www.w3.org/1999/xlink\"><defs /><text text-anchor=\"middle\" x=\"50%\" y=\"1em\">S</text><svg width=\"40.5405%\" x=\"0%\" y=\"3em\"><defs /><text text-anchor=\"middle\" x=\"50%\" y=\"1em\">NP</text><svg width=\"33.3333%\" x=\"0%\" y=\"3em\"><defs /><text text-anchor=\"middle\" x=\"50%\" y=\"1em\">D</text><svg width=\"100%\" x=\"0%\" y=\"6em\"><defs /><text text-anchor=\"middle\" x=\"50%\" y=\"1em\">the</text></svg><line stroke=\"black\" x1=\"50%\" x2=\"50%\" y1=\"1.2em\" y2=\"6em\" /></svg><line stroke=\"black\" x1=\"50%\" x2=\"16.6667%\" y1=\"1.2em\" y2=\"3em\" /><svg width=\"66.6667%\" x=\"33.3333%\" y=\"3em\"><defs /><text text-anchor=\"middle\" x=\"50%\" y=\"1em\">N</text><svg width=\"100%\" x=\"0%\" y=\"6em\"><defs /><text text-anchor=\"middle\" x=\"50%\" y=\"1em\">elephant</text></svg><line stroke=\"black\" x1=\"50%\" x2=\"50%\" y1=\"1.2em\" y2=\"6em\" /></svg><line stroke=\"black\" x1=\"50%\" x2=\"66.6667%\" y1=\"1.2em\" y2=\"3em\" /></svg><line stroke=\"black\" x1=\"50%\" x2=\"20.2703%\" y1=\"1.2em\" y2=\"3em\" /><svg width=\"59.4595%\" x=\"40.5405%\" y=\"3em\"><defs /><text text-anchor=\"middle\" x=\"50%\" y=\"1em\">VP</text><svg width=\"22.7273%\" x=\"0%\" y=\"3em\"><defs /><text text-anchor=\"middle\" x=\"50%\" y=\"1em\">V</text><svg width=\"100%\" x=\"0%\" y=\"6em\"><defs /><text text-anchor=\"middle\" x=\"50%\" y=\"1em\">saw</text></svg><line stroke=\"black\" x1=\"50%\" x2=\"50%\" y1=\"1.2em\" y2=\"6em\" /></svg><line stroke=\"black\" x1=\"50%\" x2=\"11.3636%\" y1=\"1.2em\" y2=\"3em\" /><svg width=\"77.2727%\" x=\"22.7273%\" y=\"3em\"><defs /><text text-anchor=\"middle\" x=\"50%\" y=\"1em\">NP</text><svg width=\"29.4118%\" x=\"0%\" y=\"3em\"><defs /><text text-anchor=\"middle\" x=\"50%\" y=\"1em\">D</text><svg width=\"100%\" x=\"0%\" y=\"3em\"><defs /><text text-anchor=\"middle\" x=\"50%\" y=\"1em\">the</text></svg><line stroke=\"black\" x1=\"50%\" x2=\"50%\" y1=\"1.2em\" y2=\"3em\" /></svg><line stroke=\"black\" x1=\"50%\" x2=\"14.7059%\" y1=\"1.2em\" y2=\"3em\" /><svg width=\"70.5882%\" x=\"29.4118%\" y=\"3em\"><defs /><text text-anchor=\"middle\" x=\"50%\" y=\"1em\">N</text><svg width=\"100%\" x=\"0%\" y=\"3em\"><defs /><text text-anchor=\"middle\" x=\"50%\" y=\"1em\">rhinoceros</text></svg><line stroke=\"black\" x1=\"50%\" x2=\"50%\" y1=\"1.2em\" y2=\"3em\" /></svg><line stroke=\"black\" x1=\"50%\" x2=\"64.7059%\" y1=\"1.2em\" y2=\"3em\" /></svg><line stroke=\"black\" x1=\"50%\" x2=\"61.3636%\" y1=\"1.2em\" y2=\"3em\" /></svg><line stroke=\"black\" x1=\"50%\" x2=\"70.2703%\" y1=\"1.2em\" y2=\"3em\" /></svg>"
      ],
      "text/plain": [
       "Tree('S', [Tree('NP', [Tree('D', ['the']), Tree('N', ['elephant'])]), Tree('VP', [Tree('V', ['saw']), Tree('NP', [Tree('D', ['the']), Tree('N', ['rhinoceros'])])])])"
      ]
     },
     "execution_count": 24,
     "metadata": {},
     "output_type": "execute_result"
    }
   ],
   "source": [
    "svgling.core.nltk_tree_options.leaf_nodes_align = True\n",
    "t3"
   ]
  },
  {
   "cell_type": "markdown",
   "metadata": {},
   "source": [
    "## Other formatting adjustments\n",
    "\n",
    "If you really want to, you can change the font. By default it will use times with some serif as a backup. To do this supply a css-formatted string; this defaults to `\"font-family: times, serif; font-weight:normal; font-style: normal;\"`. I recommend supplying all of these values, as otherwise when the tree is embedded in an arbitrary document, context might impact the font choice in unexpected ways. Keep in mind also that if you are sharing your document with others, this will be dependent on installed fonts for their svg viewer."
   ]
  },
  {
   "cell_type": "code",
   "execution_count": 25,
   "metadata": {},
   "outputs": [
    {
     "data": {
      "image/svg+xml": [
       "<svg baseProfile=\"full\" height=\"14em\" style=\"font-family: georgia, times, serif; font-weight:normal; font-style: normal; font-size: 20pt\" version=\"1.1\" width=\"18.5em\" xmlns=\"http://www.w3.org/2000/svg\" xmlns:ev=\"http://www.w3.org/2001/xml-events\" xmlns:xlink=\"http://www.w3.org/1999/xlink\"><defs /><text text-anchor=\"middle\" x=\"50%\" y=\"1em\">S</text><svg width=\"40.5405%\" x=\"0%\" y=\"3em\"><defs /><text text-anchor=\"middle\" x=\"50%\" y=\"1em\">NP</text><svg width=\"33.3333%\" x=\"0%\" y=\"3em\"><defs /><text text-anchor=\"middle\" x=\"50%\" y=\"1em\">D</text><svg width=\"100%\" x=\"0%\" y=\"6em\"><defs /><text text-anchor=\"middle\" x=\"50%\" y=\"1em\">the</text></svg><line stroke=\"black\" x1=\"50%\" x2=\"50%\" y1=\"1.2em\" y2=\"6em\" /></svg><line stroke=\"black\" x1=\"50%\" x2=\"16.6667%\" y1=\"1.2em\" y2=\"3em\" /><svg width=\"66.6667%\" x=\"33.3333%\" y=\"3em\"><defs /><text text-anchor=\"middle\" x=\"50%\" y=\"1em\">N</text><svg width=\"100%\" x=\"0%\" y=\"6em\"><defs /><text text-anchor=\"middle\" x=\"50%\" y=\"1em\">elephant</text></svg><line stroke=\"black\" x1=\"50%\" x2=\"50%\" y1=\"1.2em\" y2=\"6em\" /></svg><line stroke=\"black\" x1=\"50%\" x2=\"66.6667%\" y1=\"1.2em\" y2=\"3em\" /></svg><line stroke=\"black\" x1=\"50%\" x2=\"20.2703%\" y1=\"1.2em\" y2=\"3em\" /><svg width=\"59.4595%\" x=\"40.5405%\" y=\"3em\"><defs /><text text-anchor=\"middle\" x=\"50%\" y=\"1em\">VP</text><svg width=\"22.7273%\" x=\"0%\" y=\"3em\"><defs /><text text-anchor=\"middle\" x=\"50%\" y=\"1em\">V</text><svg width=\"100%\" x=\"0%\" y=\"6em\"><defs /><text text-anchor=\"middle\" x=\"50%\" y=\"1em\">saw</text></svg><line stroke=\"black\" x1=\"50%\" x2=\"50%\" y1=\"1.2em\" y2=\"6em\" /></svg><line stroke=\"black\" x1=\"50%\" x2=\"11.3636%\" y1=\"1.2em\" y2=\"3em\" /><svg width=\"77.2727%\" x=\"22.7273%\" y=\"3em\"><defs /><text text-anchor=\"middle\" x=\"50%\" y=\"1em\">NP</text><svg width=\"29.4118%\" x=\"0%\" y=\"3em\"><defs /><text text-anchor=\"middle\" x=\"50%\" y=\"1em\">D</text><svg width=\"100%\" x=\"0%\" y=\"3em\"><defs /><text text-anchor=\"middle\" x=\"50%\" y=\"1em\">the</text></svg><line stroke=\"black\" x1=\"50%\" x2=\"50%\" y1=\"1.2em\" y2=\"3em\" /></svg><line stroke=\"black\" x1=\"50%\" x2=\"14.7059%\" y1=\"1.2em\" y2=\"3em\" /><svg width=\"70.5882%\" x=\"29.4118%\" y=\"3em\"><defs /><text text-anchor=\"middle\" x=\"50%\" y=\"1em\">N</text><svg width=\"100%\" x=\"0%\" y=\"3em\"><defs /><text text-anchor=\"middle\" x=\"50%\" y=\"1em\">rhinoceros</text></svg><line stroke=\"black\" x1=\"50%\" x2=\"50%\" y1=\"1.2em\" y2=\"3em\" /></svg><line stroke=\"black\" x1=\"50%\" x2=\"64.7059%\" y1=\"1.2em\" y2=\"3em\" /></svg><line stroke=\"black\" x1=\"50%\" x2=\"61.3636%\" y1=\"1.2em\" y2=\"3em\" /></svg><line stroke=\"black\" x1=\"50%\" x2=\"70.2703%\" y1=\"1.2em\" y2=\"3em\" /></svg>"
      ],
      "text/plain": [
       "Tree('S', [Tree('NP', [Tree('D', ['the']), Tree('N', ['elephant'])]), Tree('VP', [Tree('V', ['saw']), Tree('NP', [Tree('D', ['the']), Tree('N', ['rhinoceros'])])])])"
      ]
     },
     "execution_count": 25,
     "metadata": {},
     "output_type": "execute_result"
    }
   ],
   "source": [
    "svgling.core.nltk_tree_options.global_font_style = \"font-family: georgia, times, serif; font-weight:normal; font-style: normal; font-size: 20pt\"\n",
    "t3"
   ]
  },
  {
   "cell_type": "markdown",
   "metadata": {},
   "source": [
    "Here's a more extreme example; I'm not sure why you'd want to do this, but you can:"
   ]
  },
  {
   "cell_type": "code",
   "execution_count": 26,
   "metadata": {},
   "outputs": [
    {
     "data": {
      "image/svg+xml": [
       "<svg baseProfile=\"full\" height=\"14em\" style=\"font-family: impact, times, serif; font-weight:normal; font-style: italic; font-size: 10pt\" version=\"1.1\" width=\"18.5em\" xmlns=\"http://www.w3.org/2000/svg\" xmlns:ev=\"http://www.w3.org/2001/xml-events\" xmlns:xlink=\"http://www.w3.org/1999/xlink\"><defs /><text text-anchor=\"middle\" x=\"50%\" y=\"1em\">S</text><svg width=\"40.5405%\" x=\"0%\" y=\"3em\"><defs /><text text-anchor=\"middle\" x=\"50%\" y=\"1em\">NP</text><svg width=\"33.3333%\" x=\"0%\" y=\"3em\"><defs /><text text-anchor=\"middle\" x=\"50%\" y=\"1em\">D</text><svg width=\"100%\" x=\"0%\" y=\"6em\"><defs /><text text-anchor=\"middle\" x=\"50%\" y=\"1em\">the</text></svg><line stroke=\"black\" x1=\"50%\" x2=\"50%\" y1=\"1.2em\" y2=\"6em\" /></svg><line stroke=\"black\" x1=\"50%\" x2=\"16.6667%\" y1=\"1.2em\" y2=\"3em\" /><svg width=\"66.6667%\" x=\"33.3333%\" y=\"3em\"><defs /><text text-anchor=\"middle\" x=\"50%\" y=\"1em\">N</text><svg width=\"100%\" x=\"0%\" y=\"6em\"><defs /><text text-anchor=\"middle\" x=\"50%\" y=\"1em\">elephant</text></svg><line stroke=\"black\" x1=\"50%\" x2=\"50%\" y1=\"1.2em\" y2=\"6em\" /></svg><line stroke=\"black\" x1=\"50%\" x2=\"66.6667%\" y1=\"1.2em\" y2=\"3em\" /></svg><line stroke=\"black\" x1=\"50%\" x2=\"20.2703%\" y1=\"1.2em\" y2=\"3em\" /><svg width=\"59.4595%\" x=\"40.5405%\" y=\"3em\"><defs /><text text-anchor=\"middle\" x=\"50%\" y=\"1em\">VP</text><svg width=\"22.7273%\" x=\"0%\" y=\"3em\"><defs /><text text-anchor=\"middle\" x=\"50%\" y=\"1em\">V</text><svg width=\"100%\" x=\"0%\" y=\"6em\"><defs /><text text-anchor=\"middle\" x=\"50%\" y=\"1em\">saw</text></svg><line stroke=\"black\" x1=\"50%\" x2=\"50%\" y1=\"1.2em\" y2=\"6em\" /></svg><line stroke=\"black\" x1=\"50%\" x2=\"11.3636%\" y1=\"1.2em\" y2=\"3em\" /><svg width=\"77.2727%\" x=\"22.7273%\" y=\"3em\"><defs /><text text-anchor=\"middle\" x=\"50%\" y=\"1em\">NP</text><svg width=\"29.4118%\" x=\"0%\" y=\"3em\"><defs /><text text-anchor=\"middle\" x=\"50%\" y=\"1em\">D</text><svg width=\"100%\" x=\"0%\" y=\"3em\"><defs /><text text-anchor=\"middle\" x=\"50%\" y=\"1em\">the</text></svg><line stroke=\"black\" x1=\"50%\" x2=\"50%\" y1=\"1.2em\" y2=\"3em\" /></svg><line stroke=\"black\" x1=\"50%\" x2=\"14.7059%\" y1=\"1.2em\" y2=\"3em\" /><svg width=\"70.5882%\" x=\"29.4118%\" y=\"3em\"><defs /><text text-anchor=\"middle\" x=\"50%\" y=\"1em\">N</text><svg width=\"100%\" x=\"0%\" y=\"3em\"><defs /><text text-anchor=\"middle\" x=\"50%\" y=\"1em\">rhinoceros</text></svg><line stroke=\"black\" x1=\"50%\" x2=\"50%\" y1=\"1.2em\" y2=\"3em\" /></svg><line stroke=\"black\" x1=\"50%\" x2=\"64.7059%\" y1=\"1.2em\" y2=\"3em\" /></svg><line stroke=\"black\" x1=\"50%\" x2=\"61.3636%\" y1=\"1.2em\" y2=\"3em\" /></svg><line stroke=\"black\" x1=\"50%\" x2=\"70.2703%\" y1=\"1.2em\" y2=\"3em\" /></svg>"
      ],
      "text/plain": [
       "Tree('S', [Tree('NP', [Tree('D', ['the']), Tree('N', ['elephant'])]), Tree('VP', [Tree('V', ['saw']), Tree('NP', [Tree('D', ['the']), Tree('N', ['rhinoceros'])])])])"
      ]
     },
     "execution_count": 26,
     "metadata": {},
     "output_type": "execute_result"
    }
   ],
   "source": [
    "svgling.core.nltk_tree_options.global_font_style = \"font-family: impact, times, serif; font-weight:normal; font-style: italic; font-size: 10pt\"\n",
    "t3"
   ]
  },
  {
   "cell_type": "markdown",
   "metadata": {},
   "source": [
    "Here's something someone might actually want to do:"
   ]
  },
  {
   "cell_type": "code",
   "execution_count": 27,
   "metadata": {},
   "outputs": [
    {
     "data": {
      "image/svg+xml": [
       "<svg baseProfile=\"full\" height=\"14em\" style=\"font-family: sans-serif; font-weight:normal; font-style: normal;\" version=\"1.1\" width=\"18.5em\" xmlns=\"http://www.w3.org/2000/svg\" xmlns:ev=\"http://www.w3.org/2001/xml-events\" xmlns:xlink=\"http://www.w3.org/1999/xlink\"><defs /><text text-anchor=\"middle\" x=\"50%\" y=\"1em\">S</text><svg width=\"40.5405%\" x=\"0%\" y=\"3em\"><defs /><text text-anchor=\"middle\" x=\"50%\" y=\"1em\">NP</text><svg width=\"33.3333%\" x=\"0%\" y=\"3em\"><defs /><text text-anchor=\"middle\" x=\"50%\" y=\"1em\">D</text><svg width=\"100%\" x=\"0%\" y=\"6em\"><defs /><text text-anchor=\"middle\" x=\"50%\" y=\"1em\">the</text></svg><line stroke=\"black\" x1=\"50%\" x2=\"50%\" y1=\"1.2em\" y2=\"6em\" /></svg><line stroke=\"black\" x1=\"50%\" x2=\"16.6667%\" y1=\"1.2em\" y2=\"3em\" /><svg width=\"66.6667%\" x=\"33.3333%\" y=\"3em\"><defs /><text text-anchor=\"middle\" x=\"50%\" y=\"1em\">N</text><svg width=\"100%\" x=\"0%\" y=\"6em\"><defs /><text text-anchor=\"middle\" x=\"50%\" y=\"1em\">elephant</text></svg><line stroke=\"black\" x1=\"50%\" x2=\"50%\" y1=\"1.2em\" y2=\"6em\" /></svg><line stroke=\"black\" x1=\"50%\" x2=\"66.6667%\" y1=\"1.2em\" y2=\"3em\" /></svg><line stroke=\"black\" x1=\"50%\" x2=\"20.2703%\" y1=\"1.2em\" y2=\"3em\" /><svg width=\"59.4595%\" x=\"40.5405%\" y=\"3em\"><defs /><text text-anchor=\"middle\" x=\"50%\" y=\"1em\">VP</text><svg width=\"22.7273%\" x=\"0%\" y=\"3em\"><defs /><text text-anchor=\"middle\" x=\"50%\" y=\"1em\">V</text><svg width=\"100%\" x=\"0%\" y=\"6em\"><defs /><text text-anchor=\"middle\" x=\"50%\" y=\"1em\">saw</text></svg><line stroke=\"black\" x1=\"50%\" x2=\"50%\" y1=\"1.2em\" y2=\"6em\" /></svg><line stroke=\"black\" x1=\"50%\" x2=\"11.3636%\" y1=\"1.2em\" y2=\"3em\" /><svg width=\"77.2727%\" x=\"22.7273%\" y=\"3em\"><defs /><text text-anchor=\"middle\" x=\"50%\" y=\"1em\">NP</text><svg width=\"29.4118%\" x=\"0%\" y=\"3em\"><defs /><text text-anchor=\"middle\" x=\"50%\" y=\"1em\">D</text><svg width=\"100%\" x=\"0%\" y=\"3em\"><defs /><text text-anchor=\"middle\" x=\"50%\" y=\"1em\">the</text></svg><line stroke=\"black\" x1=\"50%\" x2=\"50%\" y1=\"1.2em\" y2=\"3em\" /></svg><line stroke=\"black\" x1=\"50%\" x2=\"14.7059%\" y1=\"1.2em\" y2=\"3em\" /><svg width=\"70.5882%\" x=\"29.4118%\" y=\"3em\"><defs /><text text-anchor=\"middle\" x=\"50%\" y=\"1em\">N</text><svg width=\"100%\" x=\"0%\" y=\"3em\"><defs /><text text-anchor=\"middle\" x=\"50%\" y=\"1em\">rhinoceros</text></svg><line stroke=\"black\" x1=\"50%\" x2=\"50%\" y1=\"1.2em\" y2=\"3em\" /></svg><line stroke=\"black\" x1=\"50%\" x2=\"64.7059%\" y1=\"1.2em\" y2=\"3em\" /></svg><line stroke=\"black\" x1=\"50%\" x2=\"61.3636%\" y1=\"1.2em\" y2=\"3em\" /></svg><line stroke=\"black\" x1=\"50%\" x2=\"70.2703%\" y1=\"1.2em\" y2=\"3em\" /></svg>"
      ],
      "text/plain": [
       "Tree('S', [Tree('NP', [Tree('D', ['the']), Tree('N', ['elephant'])]), Tree('VP', [Tree('V', ['saw']), Tree('NP', [Tree('D', ['the']), Tree('N', ['rhinoceros'])])])])"
      ]
     },
     "execution_count": 27,
     "metadata": {},
     "output_type": "execute_result"
    }
   ],
   "source": [
    "svgling.core.nltk_tree_options.global_font_style = \"font-family: sans-serif; font-weight:normal; font-style: normal;\"\n",
    "t3"
   ]
  },
  {
   "cell_type": "markdown",
   "metadata": {},
   "source": [
    "## Debug mode\n",
    "\n",
    "Sometimes, if a tree is not rendering how you expect, it may be helpful to view it in debug mode; this draws an `em` grid along with boxes for each subtree to show how it is doing positioning. This is set with the `debug` value on options objects."
   ]
  },
  {
   "cell_type": "code",
   "execution_count": 28,
   "metadata": {},
   "outputs": [
    {
     "data": {
      "image/svg+xml": [
       "<svg baseProfile=\"full\" height=\"14em\" style=\"font-family: times, serif; font-weight:normal; font-style: normal;\" version=\"1.1\" width=\"18.5em\" xmlns=\"http://www.w3.org/2000/svg\" xmlns:ev=\"http://www.w3.org/2001/xml-events\" xmlns:xlink=\"http://www.w3.org/1999/xlink\"><defs /><rect fill=\"none\" height=\"100%\" stroke=\"lightgray\" width=\"100%\" x=\"0\" y=\"0\" /><line stroke=\"lightgray\" x1=\"1em\" x2=\"1em\" y1=\"0\" y2=\"100%\" /><line stroke=\"lightgray\" x1=\"2em\" x2=\"2em\" y1=\"0\" y2=\"100%\" /><line stroke=\"lightgray\" x1=\"3em\" x2=\"3em\" y1=\"0\" y2=\"100%\" /><line stroke=\"lightgray\" x1=\"4em\" x2=\"4em\" y1=\"0\" y2=\"100%\" /><line stroke=\"lightgray\" x1=\"5em\" x2=\"5em\" y1=\"0\" y2=\"100%\" /><line stroke=\"lightgray\" x1=\"6em\" x2=\"6em\" y1=\"0\" y2=\"100%\" /><line stroke=\"lightgray\" x1=\"7em\" x2=\"7em\" y1=\"0\" y2=\"100%\" /><line stroke=\"lightgray\" x1=\"8em\" x2=\"8em\" y1=\"0\" y2=\"100%\" /><line stroke=\"lightgray\" x1=\"9em\" x2=\"9em\" y1=\"0\" y2=\"100%\" /><line stroke=\"lightgray\" x1=\"10em\" x2=\"10em\" y1=\"0\" y2=\"100%\" /><line stroke=\"lightgray\" x1=\"11em\" x2=\"11em\" y1=\"0\" y2=\"100%\" /><line stroke=\"lightgray\" x1=\"12em\" x2=\"12em\" y1=\"0\" y2=\"100%\" /><line stroke=\"lightgray\" x1=\"13em\" x2=\"13em\" y1=\"0\" y2=\"100%\" /><line stroke=\"lightgray\" x1=\"14em\" x2=\"14em\" y1=\"0\" y2=\"100%\" /><line stroke=\"lightgray\" x1=\"15em\" x2=\"15em\" y1=\"0\" y2=\"100%\" /><line stroke=\"lightgray\" x1=\"16em\" x2=\"16em\" y1=\"0\" y2=\"100%\" /><line stroke=\"lightgray\" x1=\"17em\" x2=\"17em\" y1=\"0\" y2=\"100%\" /><line stroke=\"lightgray\" x1=\"0\" x2=\"100%\" y1=\"1em\" y2=\"1em\" /><line stroke=\"lightgray\" x1=\"0\" x2=\"100%\" y1=\"2em\" y2=\"2em\" /><line stroke=\"lightgray\" x1=\"0\" x2=\"100%\" y1=\"3em\" y2=\"3em\" /><line stroke=\"lightgray\" x1=\"0\" x2=\"100%\" y1=\"4em\" y2=\"4em\" /><line stroke=\"lightgray\" x1=\"0\" x2=\"100%\" y1=\"5em\" y2=\"5em\" /><line stroke=\"lightgray\" x1=\"0\" x2=\"100%\" y1=\"6em\" y2=\"6em\" /><line stroke=\"lightgray\" x1=\"0\" x2=\"100%\" y1=\"7em\" y2=\"7em\" /><line stroke=\"lightgray\" x1=\"0\" x2=\"100%\" y1=\"8em\" y2=\"8em\" /><line stroke=\"lightgray\" x1=\"0\" x2=\"100%\" y1=\"9em\" y2=\"9em\" /><line stroke=\"lightgray\" x1=\"0\" x2=\"100%\" y1=\"10em\" y2=\"10em\" /><line stroke=\"lightgray\" x1=\"0\" x2=\"100%\" y1=\"11em\" y2=\"11em\" /><line stroke=\"lightgray\" x1=\"0\" x2=\"100%\" y1=\"12em\" y2=\"12em\" /><line stroke=\"lightgray\" x1=\"0\" x2=\"100%\" y1=\"13em\" y2=\"13em\" /><text text-anchor=\"middle\" x=\"50%\" y=\"1em\">S</text><svg width=\"40.5405%\" x=\"0%\" y=\"3em\"><defs /><rect fill=\"none\" height=\"100%\" stroke=\"red\" width=\"100%\" x=\"0%\" y=\"0%\" /><text text-anchor=\"middle\" x=\"50%\" y=\"1em\">NP</text><svg width=\"33.3333%\" x=\"0%\" y=\"3em\"><defs /><rect fill=\"none\" height=\"100%\" stroke=\"red\" width=\"100%\" x=\"0%\" y=\"0%\" /><text text-anchor=\"middle\" x=\"50%\" y=\"1em\">D</text><svg width=\"100%\" x=\"0%\" y=\"3em\"><defs /><rect fill=\"none\" height=\"100%\" stroke=\"red\" width=\"100%\" x=\"0%\" y=\"0%\" /><text text-anchor=\"middle\" x=\"50%\" y=\"1em\">the</text></svg><line stroke=\"black\" x1=\"50%\" x2=\"50%\" y1=\"1.2em\" y2=\"3em\" /></svg><line stroke=\"black\" x1=\"50%\" x2=\"16.6667%\" y1=\"1.2em\" y2=\"3em\" /><svg width=\"66.6667%\" x=\"33.3333%\" y=\"3em\"><defs /><rect fill=\"none\" height=\"100%\" stroke=\"red\" width=\"100%\" x=\"0%\" y=\"0%\" /><text text-anchor=\"middle\" x=\"50%\" y=\"1em\">N</text><svg width=\"100%\" x=\"0%\" y=\"3em\"><defs /><rect fill=\"none\" height=\"100%\" stroke=\"red\" width=\"100%\" x=\"0%\" y=\"0%\" /><text text-anchor=\"middle\" x=\"50%\" y=\"1em\">elephant</text></svg><line stroke=\"black\" x1=\"50%\" x2=\"50%\" y1=\"1.2em\" y2=\"3em\" /></svg><line stroke=\"black\" x1=\"50%\" x2=\"66.6667%\" y1=\"1.2em\" y2=\"3em\" /></svg><line stroke=\"black\" x1=\"50%\" x2=\"20.2703%\" y1=\"1.2em\" y2=\"3em\" /><svg width=\"59.4595%\" x=\"40.5405%\" y=\"3em\"><defs /><rect fill=\"none\" height=\"100%\" stroke=\"red\" width=\"100%\" x=\"0%\" y=\"0%\" /><text text-anchor=\"middle\" x=\"50%\" y=\"1em\">VP</text><svg width=\"22.7273%\" x=\"0%\" y=\"3em\"><defs /><rect fill=\"none\" height=\"100%\" stroke=\"red\" width=\"100%\" x=\"0%\" y=\"0%\" /><text text-anchor=\"middle\" x=\"50%\" y=\"1em\">V</text><svg width=\"100%\" x=\"0%\" y=\"3em\"><defs /><rect fill=\"none\" height=\"100%\" stroke=\"red\" width=\"100%\" x=\"0%\" y=\"0%\" /><text text-anchor=\"middle\" x=\"50%\" y=\"1em\">saw</text></svg><line stroke=\"black\" x1=\"50%\" x2=\"50%\" y1=\"1.2em\" y2=\"3em\" /></svg><line stroke=\"black\" x1=\"50%\" x2=\"11.3636%\" y1=\"1.2em\" y2=\"3em\" /><svg width=\"77.2727%\" x=\"22.7273%\" y=\"3em\"><defs /><rect fill=\"none\" height=\"100%\" stroke=\"red\" width=\"100%\" x=\"0%\" y=\"0%\" /><text text-anchor=\"middle\" x=\"50%\" y=\"1em\">NP</text><svg width=\"29.4118%\" x=\"0%\" y=\"3em\"><defs /><rect fill=\"none\" height=\"100%\" stroke=\"red\" width=\"100%\" x=\"0%\" y=\"0%\" /><text text-anchor=\"middle\" x=\"50%\" y=\"1em\">D</text><svg width=\"100%\" x=\"0%\" y=\"3em\"><defs /><rect fill=\"none\" height=\"100%\" stroke=\"red\" width=\"100%\" x=\"0%\" y=\"0%\" /><text text-anchor=\"middle\" x=\"50%\" y=\"1em\">the</text></svg><line stroke=\"black\" x1=\"50%\" x2=\"50%\" y1=\"1.2em\" y2=\"3em\" /></svg><line stroke=\"black\" x1=\"50%\" x2=\"14.7059%\" y1=\"1.2em\" y2=\"3em\" /><svg width=\"70.5882%\" x=\"29.4118%\" y=\"3em\"><defs /><rect fill=\"none\" height=\"100%\" stroke=\"red\" width=\"100%\" x=\"0%\" y=\"0%\" /><text text-anchor=\"middle\" x=\"50%\" y=\"1em\">N</text><svg width=\"100%\" x=\"0%\" y=\"3em\"><defs /><rect fill=\"none\" height=\"100%\" stroke=\"red\" width=\"100%\" x=\"0%\" y=\"0%\" /><text text-anchor=\"middle\" x=\"50%\" y=\"1em\">rhinoceros</text></svg><line stroke=\"black\" x1=\"50%\" x2=\"50%\" y1=\"1.2em\" y2=\"3em\" /></svg><line stroke=\"black\" x1=\"50%\" x2=\"64.7059%\" y1=\"1.2em\" y2=\"3em\" /></svg><line stroke=\"black\" x1=\"50%\" x2=\"61.3636%\" y1=\"1.2em\" y2=\"3em\" /></svg><line stroke=\"black\" x1=\"50%\" x2=\"70.2703%\" y1=\"1.2em\" y2=\"3em\" /></svg>"
      ],
      "text/plain": [
       "Tree('S', [Tree('NP', [Tree('D', ['the']), Tree('N', ['elephant'])]), Tree('VP', [Tree('V', ['saw']), Tree('NP', [Tree('D', ['the']), Tree('N', ['rhinoceros'])])])])"
      ]
     },
     "execution_count": 28,
     "metadata": {},
     "output_type": "execute_result"
    }
   ],
   "source": [
    "svgling.core.nltk_tree_options = svgling.core.TreeOptions()\n",
    "svgling.core.nltk_tree_options.debug = True\n",
    "t3"
   ]
  },
  {
   "cell_type": "markdown",
   "metadata": {},
   "source": [
    "## Further customization\n",
    "\n",
    "Because of the nature of SVG, various aspects of trees are very easy to customize, and various things that would be nice to have are nonetheless extremely hard to do. Even things that aren't exposed in the `svgling` API may be pretty easy to do with some light under-the-hood customization of the tree rendering code. If you have specific requests, let me know.\n",
    "\n",
    "Things that would be easy, if anyone actually wants them:\n",
    "* change colors of text, have some nodes be italic/bolded\n",
    "* change line stroke / width\n",
    "* other graphical customization of what is currently rendered, SVG is pretty powerful.\n",
    "\n",
    "Things that might be possible, but not easy:\n",
    "* support multi-line nodes of text, beyond just leaf nodes. This should be pretty doable, but requires some of the layout code to be generalized.\n",
    "* draw movement arrows (getting the `x` positions is tricky, but not impossible.)\n",
    "* draw a triangle of laziness (I haven't implemented this yet just because my main use case is actual parsed data where you can't do this, but I probably will implement it). This is only tricky because it requires estimating text width accurately to look good.\n",
    "* labels along edges? SVG has pretty good support for this but I don't (currently) know how to use it, so it might actually be easy.\n",
    "\n",
    "Things that are quite hard, but desirable (most of these need multi-pass rendering to do right):\n",
    "* resize trees based on actual node sizes.\n",
    "* support complex nodes in a more general way.\n",
    "* put MathJax in nodes, perhaps using SVG `foreignObject`. Support `foreignObject` nodes in general. (This requires being able to calculate node sizes, too.)\n",
    "* allow positioning of nodes or interactive trees via javascript.\n",
    "* export to raster format. (Perhaps via inkscape?)\n"
   ]
  },
  {
   "cell_type": "code",
   "execution_count": null,
   "metadata": {},
   "outputs": [],
   "source": []
  }
 ],
 "metadata": {
  "kernelspec": {
   "display_name": "Python 3",
   "language": "python",
   "name": "python3"
  },
  "language_info": {
   "codemirror_mode": {
    "name": "ipython",
    "version": 3
   },
   "file_extension": ".py",
   "mimetype": "text/x-python",
   "name": "python",
   "nbconvert_exporter": "python",
   "pygments_lexer": "ipython3",
   "version": "3.6.6"
  }
 },
 "nbformat": 4,
 "nbformat_minor": 2
}
