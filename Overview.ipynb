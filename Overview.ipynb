{
 "cells": [
  {
   "cell_type": "code",
   "execution_count": 181,
   "metadata": {},
   "outputs": [],
   "source": [
    "import svgling"
   ]
  },
  {
   "cell_type": "markdown",
   "metadata": {},
   "source": [
    "# Overview of `svgling`\n",
    "\n",
    "### Kyle Rawlins, [kgr@jhu.edu](kgr@jhu.edu)\n",
    "\n",
    "This package is a pure python package for rendering linguistics-style (constituent) trees in SVG. It accepts trees defined in terms of lists of lists (really, anything indexable) and strings, as well as `nltk.Tree` objects (or anything with the same API).\n",
    "\n",
    "For convenient use in Jupyter notebooks, the main function to try is `svgling.draw_tree`:"
   ]
  },
  {
   "cell_type": "code",
   "execution_count": 218,
   "metadata": {},
   "outputs": [
    {
     "data": {
      "image/svg+xml": [
       "<svg baseProfile=\"full\" height=\"5em\" version=\"1.1\" width=\"4em\" xmlns=\"http://www.w3.org/2000/svg\" xmlns:ev=\"http://www.w3.org/2001/xml-events\" xmlns:xlink=\"http://www.w3.org/1999/xlink\"><defs/><text text-anchor=\"middle\" x=\"50%\" y=\"1em\">S</text><svg width=\"50%\" x=\"0%\" y=\"3em\"><defs/><text text-anchor=\"middle\" x=\"50%\" y=\"1em\">NP</text></svg><line stroke=\"black\" x1=\"50%\" x2=\"25%\" y1=\"1.2em\" y2=\"3em\"/><svg width=\"50%\" x=\"50%\" y=\"3em\"><defs/><text text-anchor=\"middle\" x=\"50%\" y=\"1em\">VP</text></svg><line stroke=\"black\" x1=\"50%\" x2=\"75%\" y1=\"1.2em\" y2=\"3em\"/></svg>"
      ],
      "text/plain": [
       "<IPython.core.display.SVG object>"
      ]
     },
     "execution_count": 218,
     "metadata": {},
     "output_type": "execute_result"
    }
   ],
   "source": [
    "svgling.draw_tree((\"S\", \"NP\", \"VP\"))"
   ]
  },
  {
   "cell_type": "markdown",
   "metadata": {},
   "source": [
    "## Spacing options\n",
    "\n",
    "By default, `svgling` will attempt to adjust *horizontal spacing* based on the lengths of leaf nodes in a subtree. This typically produces the best results for natural language syntax trees. *Vertical spacing*, on the other hand, is for the most part a constant between-node value.\n",
    "\n",
    "Because `svgling` does (for now) only single-pass rendering, with no javascript, some of the spacing options may involve a certain amount of heuristic adjustment (because it is impossible to know exact text sizes before actually rendering them to a device). Please let me know if you find spacing bugs and I'll try to address them.\n",
    "\n",
    "Here are two somewhat more interesting trees, defined as lists, and various rendering options demonstrated on those trees."
   ]
  },
  {
   "cell_type": "code",
   "execution_count": 183,
   "metadata": {},
   "outputs": [],
   "source": [
    "t0 = (\"S\", (\"NP\", \"D\", \"N\"), (\"VP\", \"V\", (\"NP\", \"D\", \"N\")))\n",
    "t1 = (\"S\", (\"NP\", (\"D\", \"the\"), (\"N\", \"rhinocerous\")), (\"VP\", (\"V\", \"saw\"), (\"NP\", (\"D\", \"the\"), (\"N\", \"elephant\"))))"
   ]
  },
  {
   "cell_type": "markdown",
   "metadata": {},
   "source": [
    "Here are the default settings, which use text-width-based spacing (`HorizOptions.TEXT`):"
   ]
  },
  {
   "cell_type": "code",
   "execution_count": 184,
   "metadata": {},
   "outputs": [
    {
     "data": {
      "image/svg+xml": [
       "<svg baseProfile=\"full\" height=\"11em\" version=\"1.1\" width=\"7.5em\" xmlns=\"http://www.w3.org/2000/svg\" xmlns:ev=\"http://www.w3.org/2001/xml-events\" xmlns:xlink=\"http://www.w3.org/1999/xlink\"><defs/><text text-anchor=\"middle\" x=\"50%\" y=\"1em\">S</text><svg width=\"40%\" x=\"0%\" y=\"3em\"><defs/><text text-anchor=\"middle\" x=\"50%\" y=\"1em\">NP</text><svg width=\"50%\" x=\"0%\" y=\"3em\"><defs/><text text-anchor=\"middle\" x=\"50%\" y=\"1em\">D</text></svg><line stroke=\"black\" x1=\"50%\" x2=\"25%\" y1=\"1.2em\" y2=\"3em\"/><svg width=\"50%\" x=\"50%\" y=\"3em\"><defs/><text text-anchor=\"middle\" x=\"50%\" y=\"1em\">N</text></svg><line stroke=\"black\" x1=\"50%\" x2=\"75%\" y1=\"1.2em\" y2=\"3em\"/></svg><line stroke=\"black\" x1=\"50%\" x2=\"20%\" y1=\"1.2em\" y2=\"3em\"/><svg width=\"60%\" x=\"40%\" y=\"3em\"><defs/><text text-anchor=\"middle\" x=\"50%\" y=\"1em\">VP</text><svg width=\"33.3333%\" x=\"0%\" y=\"3em\"><defs/><text text-anchor=\"middle\" x=\"50%\" y=\"1em\">V</text></svg><line stroke=\"black\" x1=\"50%\" x2=\"16.6667%\" y1=\"1.2em\" y2=\"3em\"/><svg width=\"66.6667%\" x=\"33.3333%\" y=\"3em\"><defs/><text text-anchor=\"middle\" x=\"50%\" y=\"1em\">NP</text><svg width=\"50%\" x=\"0%\" y=\"3em\"><defs/><text text-anchor=\"middle\" x=\"50%\" y=\"1em\">D</text></svg><line stroke=\"black\" x1=\"50%\" x2=\"25%\" y1=\"1.2em\" y2=\"3em\"/><svg width=\"50%\" x=\"50%\" y=\"3em\"><defs/><text text-anchor=\"middle\" x=\"50%\" y=\"1em\">N</text></svg><line stroke=\"black\" x1=\"50%\" x2=\"75%\" y1=\"1.2em\" y2=\"3em\"/></svg><line stroke=\"black\" x1=\"50%\" x2=\"66.6667%\" y1=\"1.2em\" y2=\"3em\"/></svg><line stroke=\"black\" x1=\"50%\" x2=\"70%\" y1=\"1.2em\" y2=\"3em\"/></svg>"
      ],
      "text/plain": [
       "<IPython.core.display.SVG object>"
      ]
     },
     "execution_count": 184,
     "metadata": {},
     "output_type": "execute_result"
    }
   ],
   "source": [
    "svgling.draw_tree(t0)"
   ]
  },
  {
   "cell_type": "code",
   "execution_count": 185,
   "metadata": {},
   "outputs": [
    {
     "data": {
      "image/svg+xml": [
       "<svg baseProfile=\"full\" height=\"14em\" version=\"1.1\" width=\"19em\" xmlns=\"http://www.w3.org/2000/svg\" xmlns:ev=\"http://www.w3.org/2001/xml-events\" xmlns:xlink=\"http://www.w3.org/1999/xlink\"><defs/><text text-anchor=\"middle\" x=\"50%\" y=\"1em\">S</text><svg width=\"47.3684%\" x=\"0%\" y=\"3em\"><defs/><text text-anchor=\"middle\" x=\"50%\" y=\"1em\">NP</text><svg width=\"27.7778%\" x=\"0%\" y=\"3em\"><defs/><text text-anchor=\"middle\" x=\"50%\" y=\"1em\">D</text><svg width=\"100%\" x=\"0%\" y=\"3em\"><defs/><text text-anchor=\"middle\" x=\"50%\" y=\"1em\">the</text></svg><line stroke=\"black\" x1=\"50%\" x2=\"50%\" y1=\"1.2em\" y2=\"3em\"/></svg><line stroke=\"black\" x1=\"50%\" x2=\"13.8889%\" y1=\"1.2em\" y2=\"3em\"/><svg width=\"72.2222%\" x=\"27.7778%\" y=\"3em\"><defs/><text text-anchor=\"middle\" x=\"50%\" y=\"1em\">N</text><svg width=\"100%\" x=\"0%\" y=\"3em\"><defs/><text text-anchor=\"middle\" x=\"50%\" y=\"1em\">rhinocerous</text></svg><line stroke=\"black\" x1=\"50%\" x2=\"50%\" y1=\"1.2em\" y2=\"3em\"/></svg><line stroke=\"black\" x1=\"50%\" x2=\"63.8889%\" y1=\"1.2em\" y2=\"3em\"/></svg><line stroke=\"black\" x1=\"50%\" x2=\"23.6842%\" y1=\"1.2em\" y2=\"3em\"/><svg width=\"52.6316%\" x=\"47.3684%\" y=\"3em\"><defs/><text text-anchor=\"middle\" x=\"50%\" y=\"1em\">VP</text><svg width=\"25%\" x=\"0%\" y=\"3em\"><defs/><text text-anchor=\"middle\" x=\"50%\" y=\"1em\">V</text><svg width=\"100%\" x=\"0%\" y=\"3em\"><defs/><text text-anchor=\"middle\" x=\"50%\" y=\"1em\">saw</text></svg><line stroke=\"black\" x1=\"50%\" x2=\"50%\" y1=\"1.2em\" y2=\"3em\"/></svg><line stroke=\"black\" x1=\"50%\" x2=\"12.5%\" y1=\"1.2em\" y2=\"3em\"/><svg width=\"75%\" x=\"25%\" y=\"3em\"><defs/><text text-anchor=\"middle\" x=\"50%\" y=\"1em\">NP</text><svg width=\"33.3333%\" x=\"0%\" y=\"3em\"><defs/><text text-anchor=\"middle\" x=\"50%\" y=\"1em\">D</text><svg width=\"100%\" x=\"0%\" y=\"3em\"><defs/><text text-anchor=\"middle\" x=\"50%\" y=\"1em\">the</text></svg><line stroke=\"black\" x1=\"50%\" x2=\"50%\" y1=\"1.2em\" y2=\"3em\"/></svg><line stroke=\"black\" x1=\"50%\" x2=\"16.6667%\" y1=\"1.2em\" y2=\"3em\"/><svg width=\"66.6667%\" x=\"33.3333%\" y=\"3em\"><defs/><text text-anchor=\"middle\" x=\"50%\" y=\"1em\">N</text><svg width=\"100%\" x=\"0%\" y=\"3em\"><defs/><text text-anchor=\"middle\" x=\"50%\" y=\"1em\">elephant</text></svg><line stroke=\"black\" x1=\"50%\" x2=\"50%\" y1=\"1.2em\" y2=\"3em\"/></svg><line stroke=\"black\" x1=\"50%\" x2=\"66.6667%\" y1=\"1.2em\" y2=\"3em\"/></svg><line stroke=\"black\" x1=\"50%\" x2=\"62.5%\" y1=\"1.2em\" y2=\"3em\"/></svg><line stroke=\"black\" x1=\"50%\" x2=\"73.6842%\" y1=\"1.2em\" y2=\"3em\"/></svg>"
      ],
      "text/plain": [
       "<IPython.core.display.SVG object>"
      ]
     },
     "execution_count": 185,
     "metadata": {},
     "output_type": "execute_result"
    }
   ],
   "source": [
    "svgling.draw_tree(t1)"
   ]
  },
  {
   "cell_type": "markdown",
   "metadata": {},
   "source": [
    "To customize the tree layout, you provide a `svgling.core.TreeOptions` object. Here are the two above trees rendered using even spacing. Without manual adjustment, this may cut off longer words, but it can look better for abstract trees with similar-width leaf nodes."
   ]
  },
  {
   "cell_type": "code",
   "execution_count": 186,
   "metadata": {},
   "outputs": [
    {
     "data": {
      "image/svg+xml": [
       "<svg baseProfile=\"full\" height=\"11em\" version=\"1.1\" width=\"12.5em\" xmlns=\"http://www.w3.org/2000/svg\" xmlns:ev=\"http://www.w3.org/2001/xml-events\" xmlns:xlink=\"http://www.w3.org/1999/xlink\"><defs/><text text-anchor=\"middle\" x=\"50%\" y=\"1em\">S</text><svg width=\"50%\" x=\"0%\" y=\"3em\"><defs/><text text-anchor=\"middle\" x=\"50%\" y=\"1em\">NP</text><svg width=\"50%\" x=\"0%\" y=\"3em\"><defs/><text text-anchor=\"middle\" x=\"50%\" y=\"1em\">D</text></svg><line stroke=\"black\" x1=\"50%\" x2=\"25%\" y1=\"1.2em\" y2=\"3em\"/><svg width=\"50%\" x=\"50%\" y=\"3em\"><defs/><text text-anchor=\"middle\" x=\"50%\" y=\"1em\">N</text></svg><line stroke=\"black\" x1=\"50%\" x2=\"75%\" y1=\"1.2em\" y2=\"3em\"/></svg><line stroke=\"black\" x1=\"50%\" x2=\"25%\" y1=\"1.2em\" y2=\"3em\"/><svg width=\"50%\" x=\"50%\" y=\"3em\"><defs/><text text-anchor=\"middle\" x=\"50%\" y=\"1em\">VP</text><svg width=\"50%\" x=\"0%\" y=\"3em\"><defs/><text text-anchor=\"middle\" x=\"50%\" y=\"1em\">V</text></svg><line stroke=\"black\" x1=\"50%\" x2=\"25%\" y1=\"1.2em\" y2=\"3em\"/><svg width=\"50%\" x=\"50%\" y=\"3em\"><defs/><text text-anchor=\"middle\" x=\"50%\" y=\"1em\">NP</text><svg width=\"50%\" x=\"0%\" y=\"3em\"><defs/><text text-anchor=\"middle\" x=\"50%\" y=\"1em\">D</text></svg><line stroke=\"black\" x1=\"50%\" x2=\"25%\" y1=\"1.2em\" y2=\"3em\"/><svg width=\"50%\" x=\"50%\" y=\"3em\"><defs/><text text-anchor=\"middle\" x=\"50%\" y=\"1em\">N</text></svg><line stroke=\"black\" x1=\"50%\" x2=\"75%\" y1=\"1.2em\" y2=\"3em\"/></svg><line stroke=\"black\" x1=\"50%\" x2=\"75%\" y1=\"1.2em\" y2=\"3em\"/></svg><line stroke=\"black\" x1=\"50%\" x2=\"75%\" y1=\"1.2em\" y2=\"3em\"/></svg>"
      ],
      "text/plain": [
       "<IPython.core.display.SVG object>"
      ]
     },
     "execution_count": 186,
     "metadata": {},
     "output_type": "execute_result"
    }
   ],
   "source": [
    "svgling.draw_tree(t0, options=svgling.core.TreeOptions(horiz_spacing=svgling.core.HorizOptions.EVEN, leaf_padding=4))"
   ]
  },
  {
   "cell_type": "code",
   "execution_count": 187,
   "metadata": {},
   "outputs": [
    {
     "data": {
      "image/svg+xml": [
       "<svg baseProfile=\"full\" height=\"14em\" version=\"1.1\" width=\"29em\" xmlns=\"http://www.w3.org/2000/svg\" xmlns:ev=\"http://www.w3.org/2001/xml-events\" xmlns:xlink=\"http://www.w3.org/1999/xlink\"><defs/><text text-anchor=\"middle\" x=\"50%\" y=\"1em\">S</text><svg width=\"50%\" x=\"0%\" y=\"3em\"><defs/><text text-anchor=\"middle\" x=\"50%\" y=\"1em\">NP</text><svg width=\"50%\" x=\"0%\" y=\"3em\"><defs/><text text-anchor=\"middle\" x=\"50%\" y=\"1em\">D</text><svg width=\"100%\" x=\"0%\" y=\"3em\"><defs/><text text-anchor=\"middle\" x=\"50%\" y=\"1em\">the</text></svg><line stroke=\"black\" x1=\"50%\" x2=\"50%\" y1=\"1.2em\" y2=\"3em\"/></svg><line stroke=\"black\" x1=\"50%\" x2=\"25%\" y1=\"1.2em\" y2=\"3em\"/><svg width=\"50%\" x=\"50%\" y=\"3em\"><defs/><text text-anchor=\"middle\" x=\"50%\" y=\"1em\">N</text><svg width=\"100%\" x=\"0%\" y=\"3em\"><defs/><text text-anchor=\"middle\" x=\"50%\" y=\"1em\">rhinocerous</text></svg><line stroke=\"black\" x1=\"50%\" x2=\"50%\" y1=\"1.2em\" y2=\"3em\"/></svg><line stroke=\"black\" x1=\"50%\" x2=\"75%\" y1=\"1.2em\" y2=\"3em\"/></svg><line stroke=\"black\" x1=\"50%\" x2=\"25%\" y1=\"1.2em\" y2=\"3em\"/><svg width=\"50%\" x=\"50%\" y=\"3em\"><defs/><text text-anchor=\"middle\" x=\"50%\" y=\"1em\">VP</text><svg width=\"50%\" x=\"0%\" y=\"3em\"><defs/><text text-anchor=\"middle\" x=\"50%\" y=\"1em\">V</text><svg width=\"100%\" x=\"0%\" y=\"3em\"><defs/><text text-anchor=\"middle\" x=\"50%\" y=\"1em\">saw</text></svg><line stroke=\"black\" x1=\"50%\" x2=\"50%\" y1=\"1.2em\" y2=\"3em\"/></svg><line stroke=\"black\" x1=\"50%\" x2=\"25%\" y1=\"1.2em\" y2=\"3em\"/><svg width=\"50%\" x=\"50%\" y=\"3em\"><defs/><text text-anchor=\"middle\" x=\"50%\" y=\"1em\">NP</text><svg width=\"50%\" x=\"0%\" y=\"3em\"><defs/><text text-anchor=\"middle\" x=\"50%\" y=\"1em\">D</text><svg width=\"100%\" x=\"0%\" y=\"3em\"><defs/><text text-anchor=\"middle\" x=\"50%\" y=\"1em\">the</text></svg><line stroke=\"black\" x1=\"50%\" x2=\"50%\" y1=\"1.2em\" y2=\"3em\"/></svg><line stroke=\"black\" x1=\"50%\" x2=\"25%\" y1=\"1.2em\" y2=\"3em\"/><svg width=\"50%\" x=\"50%\" y=\"3em\"><defs/><text text-anchor=\"middle\" x=\"50%\" y=\"1em\">N</text><svg width=\"100%\" x=\"0%\" y=\"3em\"><defs/><text text-anchor=\"middle\" x=\"50%\" y=\"1em\">elephant</text></svg><line stroke=\"black\" x1=\"50%\" x2=\"50%\" y1=\"1.2em\" y2=\"3em\"/></svg><line stroke=\"black\" x1=\"50%\" x2=\"75%\" y1=\"1.2em\" y2=\"3em\"/></svg><line stroke=\"black\" x1=\"50%\" x2=\"75%\" y1=\"1.2em\" y2=\"3em\"/></svg><line stroke=\"black\" x1=\"50%\" x2=\"75%\" y1=\"1.2em\" y2=\"3em\"/></svg>"
      ],
      "text/plain": [
       "<IPython.core.display.SVG object>"
      ]
     },
     "execution_count": 187,
     "metadata": {},
     "output_type": "execute_result"
    }
   ],
   "source": [
    "svgling.draw_tree(t1, options=svgling.core.TreeOptions(horiz_spacing=svgling.core.HorizOptions.EVEN, leaf_padding=6))"
   ]
  },
  {
   "cell_type": "markdown",
   "metadata": {},
   "source": [
    "The third mode uses leaf node count, irrespective of the length of the contents of the leaf node, to adjust horizontal spacing."
   ]
  },
  {
   "cell_type": "code",
   "execution_count": 188,
   "metadata": {},
   "outputs": [
    {
     "data": {
      "image/svg+xml": [
       "<svg baseProfile=\"full\" height=\"11em\" version=\"1.1\" width=\"10em\" xmlns=\"http://www.w3.org/2000/svg\" xmlns:ev=\"http://www.w3.org/2001/xml-events\" xmlns:xlink=\"http://www.w3.org/1999/xlink\"><defs/><text text-anchor=\"middle\" x=\"50%\" y=\"1em\">S</text><svg width=\"40%\" x=\"0%\" y=\"3em\"><defs/><text text-anchor=\"middle\" x=\"50%\" y=\"1em\">NP</text><svg width=\"50%\" x=\"0%\" y=\"3em\"><defs/><text text-anchor=\"middle\" x=\"50%\" y=\"1em\">D</text></svg><line stroke=\"black\" x1=\"50%\" x2=\"25%\" y1=\"1.2em\" y2=\"3em\"/><svg width=\"50%\" x=\"50%\" y=\"3em\"><defs/><text text-anchor=\"middle\" x=\"50%\" y=\"1em\">N</text></svg><line stroke=\"black\" x1=\"50%\" x2=\"75%\" y1=\"1.2em\" y2=\"3em\"/></svg><line stroke=\"black\" x1=\"50%\" x2=\"20%\" y1=\"1.2em\" y2=\"3em\"/><svg width=\"60%\" x=\"40%\" y=\"3em\"><defs/><text text-anchor=\"middle\" x=\"50%\" y=\"1em\">VP</text><svg width=\"33.3333%\" x=\"0%\" y=\"3em\"><defs/><text text-anchor=\"middle\" x=\"50%\" y=\"1em\">V</text></svg><line stroke=\"black\" x1=\"50%\" x2=\"16.6667%\" y1=\"1.2em\" y2=\"3em\"/><svg width=\"66.6667%\" x=\"33.3333%\" y=\"3em\"><defs/><text text-anchor=\"middle\" x=\"50%\" y=\"1em\">NP</text><svg width=\"50%\" x=\"0%\" y=\"3em\"><defs/><text text-anchor=\"middle\" x=\"50%\" y=\"1em\">D</text></svg><line stroke=\"black\" x1=\"50%\" x2=\"25%\" y1=\"1.2em\" y2=\"3em\"/><svg width=\"50%\" x=\"50%\" y=\"3em\"><defs/><text text-anchor=\"middle\" x=\"50%\" y=\"1em\">N</text></svg><line stroke=\"black\" x1=\"50%\" x2=\"75%\" y1=\"1.2em\" y2=\"3em\"/></svg><line stroke=\"black\" x1=\"50%\" x2=\"66.6667%\" y1=\"1.2em\" y2=\"3em\"/></svg><line stroke=\"black\" x1=\"50%\" x2=\"70%\" y1=\"1.2em\" y2=\"3em\"/></svg>"
      ],
      "text/plain": [
       "<IPython.core.display.SVG object>"
      ]
     },
     "execution_count": 188,
     "metadata": {},
     "output_type": "execute_result"
    }
   ],
   "source": [
    "svgling.draw_tree(t0, options=svgling.core.TreeOptions(horiz_spacing=svgling.core.HorizOptions.NODES, leaf_padding=3))"
   ]
  },
  {
   "cell_type": "code",
   "execution_count": 189,
   "metadata": {},
   "outputs": [
    {
     "data": {
      "image/svg+xml": [
       "<svg baseProfile=\"full\" height=\"14em\" version=\"1.1\" width=\"24em\" xmlns=\"http://www.w3.org/2000/svg\" xmlns:ev=\"http://www.w3.org/2001/xml-events\" xmlns:xlink=\"http://www.w3.org/1999/xlink\"><defs/><text text-anchor=\"middle\" x=\"50%\" y=\"1em\">S</text><svg width=\"40%\" x=\"0%\" y=\"3em\"><defs/><text text-anchor=\"middle\" x=\"50%\" y=\"1em\">NP</text><svg width=\"50%\" x=\"0%\" y=\"3em\"><defs/><text text-anchor=\"middle\" x=\"50%\" y=\"1em\">D</text><svg width=\"100%\" x=\"0%\" y=\"3em\"><defs/><text text-anchor=\"middle\" x=\"50%\" y=\"1em\">the</text></svg><line stroke=\"black\" x1=\"50%\" x2=\"50%\" y1=\"1.2em\" y2=\"3em\"/></svg><line stroke=\"black\" x1=\"50%\" x2=\"25%\" y1=\"1.2em\" y2=\"3em\"/><svg width=\"50%\" x=\"50%\" y=\"3em\"><defs/><text text-anchor=\"middle\" x=\"50%\" y=\"1em\">N</text><svg width=\"100%\" x=\"0%\" y=\"3em\"><defs/><text text-anchor=\"middle\" x=\"50%\" y=\"1em\">rhinocerous</text></svg><line stroke=\"black\" x1=\"50%\" x2=\"50%\" y1=\"1.2em\" y2=\"3em\"/></svg><line stroke=\"black\" x1=\"50%\" x2=\"75%\" y1=\"1.2em\" y2=\"3em\"/></svg><line stroke=\"black\" x1=\"50%\" x2=\"20%\" y1=\"1.2em\" y2=\"3em\"/><svg width=\"60%\" x=\"40%\" y=\"3em\"><defs/><text text-anchor=\"middle\" x=\"50%\" y=\"1em\">VP</text><svg width=\"33.3333%\" x=\"0%\" y=\"3em\"><defs/><text text-anchor=\"middle\" x=\"50%\" y=\"1em\">V</text><svg width=\"100%\" x=\"0%\" y=\"3em\"><defs/><text text-anchor=\"middle\" x=\"50%\" y=\"1em\">saw</text></svg><line stroke=\"black\" x1=\"50%\" x2=\"50%\" y1=\"1.2em\" y2=\"3em\"/></svg><line stroke=\"black\" x1=\"50%\" x2=\"16.6667%\" y1=\"1.2em\" y2=\"3em\"/><svg width=\"66.6667%\" x=\"33.3333%\" y=\"3em\"><defs/><text text-anchor=\"middle\" x=\"50%\" y=\"1em\">NP</text><svg width=\"50%\" x=\"0%\" y=\"3em\"><defs/><text text-anchor=\"middle\" x=\"50%\" y=\"1em\">D</text><svg width=\"100%\" x=\"0%\" y=\"3em\"><defs/><text text-anchor=\"middle\" x=\"50%\" y=\"1em\">the</text></svg><line stroke=\"black\" x1=\"50%\" x2=\"50%\" y1=\"1.2em\" y2=\"3em\"/></svg><line stroke=\"black\" x1=\"50%\" x2=\"25%\" y1=\"1.2em\" y2=\"3em\"/><svg width=\"50%\" x=\"50%\" y=\"3em\"><defs/><text text-anchor=\"middle\" x=\"50%\" y=\"1em\">N</text><svg width=\"100%\" x=\"0%\" y=\"3em\"><defs/><text text-anchor=\"middle\" x=\"50%\" y=\"1em\">elephant</text></svg><line stroke=\"black\" x1=\"50%\" x2=\"50%\" y1=\"1.2em\" y2=\"3em\"/></svg><line stroke=\"black\" x1=\"50%\" x2=\"75%\" y1=\"1.2em\" y2=\"3em\"/></svg><line stroke=\"black\" x1=\"50%\" x2=\"66.6667%\" y1=\"1.2em\" y2=\"3em\"/></svg><line stroke=\"black\" x1=\"50%\" x2=\"70%\" y1=\"1.2em\" y2=\"3em\"/></svg>"
      ],
      "text/plain": [
       "<IPython.core.display.SVG object>"
      ]
     },
     "execution_count": 189,
     "metadata": {},
     "output_type": "execute_result"
    }
   ],
   "source": [
    "svgling.draw_tree(t1, options=svgling.core.TreeOptions(horiz_spacing=svgling.core.HorizOptions.NODES, leaf_padding=4))"
   ]
  },
  {
   "cell_type": "markdown",
   "metadata": {},
   "source": [
    "By default, leaf node height will be determined by the depth of the leaf node. It is possible to set leaf nodes to all align with the lowest leaf node in the tree:"
   ]
  },
  {
   "cell_type": "code",
   "execution_count": 190,
   "metadata": {},
   "outputs": [
    {
     "data": {
      "image/svg+xml": [
       "<svg baseProfile=\"full\" height=\"11em\" version=\"1.1\" width=\"10em\" xmlns=\"http://www.w3.org/2000/svg\" xmlns:ev=\"http://www.w3.org/2001/xml-events\" xmlns:xlink=\"http://www.w3.org/1999/xlink\"><defs/><text text-anchor=\"middle\" x=\"50%\" y=\"1em\">S</text><svg width=\"40%\" x=\"0%\" y=\"3em\"><defs/><text text-anchor=\"middle\" x=\"50%\" y=\"1em\">NP</text><svg width=\"50%\" x=\"0%\" y=\"6em\"><defs/><text text-anchor=\"middle\" x=\"50%\" y=\"1em\">D</text></svg><line stroke=\"black\" x1=\"50%\" x2=\"25%\" y1=\"1.2em\" y2=\"6em\"/><svg width=\"50%\" x=\"50%\" y=\"6em\"><defs/><text text-anchor=\"middle\" x=\"50%\" y=\"1em\">N</text></svg><line stroke=\"black\" x1=\"50%\" x2=\"75%\" y1=\"1.2em\" y2=\"6em\"/></svg><line stroke=\"black\" x1=\"50%\" x2=\"20%\" y1=\"1.2em\" y2=\"3em\"/><svg width=\"60%\" x=\"40%\" y=\"3em\"><defs/><text text-anchor=\"middle\" x=\"50%\" y=\"1em\">VP</text><svg width=\"33.3333%\" x=\"0%\" y=\"6em\"><defs/><text text-anchor=\"middle\" x=\"50%\" y=\"1em\">V</text></svg><line stroke=\"black\" x1=\"50%\" x2=\"16.6667%\" y1=\"1.2em\" y2=\"6em\"/><svg width=\"66.6667%\" x=\"33.3333%\" y=\"3em\"><defs/><text text-anchor=\"middle\" x=\"50%\" y=\"1em\">NP</text><svg width=\"50%\" x=\"0%\" y=\"3em\"><defs/><text text-anchor=\"middle\" x=\"50%\" y=\"1em\">D</text></svg><line stroke=\"black\" x1=\"50%\" x2=\"25%\" y1=\"1.2em\" y2=\"3em\"/><svg width=\"50%\" x=\"50%\" y=\"3em\"><defs/><text text-anchor=\"middle\" x=\"50%\" y=\"1em\">N</text></svg><line stroke=\"black\" x1=\"50%\" x2=\"75%\" y1=\"1.2em\" y2=\"3em\"/></svg><line stroke=\"black\" x1=\"50%\" x2=\"66.6667%\" y1=\"1.2em\" y2=\"3em\"/></svg><line stroke=\"black\" x1=\"50%\" x2=\"70%\" y1=\"1.2em\" y2=\"3em\"/></svg>"
      ],
      "text/plain": [
       "<IPython.core.display.SVG object>"
      ]
     },
     "execution_count": 190,
     "metadata": {},
     "output_type": "execute_result"
    }
   ],
   "source": [
    "svgling.draw_tree(t0, options=svgling.core.TreeOptions(leaf_nodes_align=True, leaf_padding=3))"
   ]
  },
  {
   "cell_type": "code",
   "execution_count": 191,
   "metadata": {},
   "outputs": [
    {
     "data": {
      "image/svg+xml": [
       "<svg baseProfile=\"full\" height=\"14em\" version=\"1.1\" width=\"19em\" xmlns=\"http://www.w3.org/2000/svg\" xmlns:ev=\"http://www.w3.org/2001/xml-events\" xmlns:xlink=\"http://www.w3.org/1999/xlink\"><defs/><text text-anchor=\"middle\" x=\"50%\" y=\"1em\">S</text><svg width=\"47.3684%\" x=\"0%\" y=\"3em\"><defs/><text text-anchor=\"middle\" x=\"50%\" y=\"1em\">NP</text><svg width=\"27.7778%\" x=\"0%\" y=\"3em\"><defs/><text text-anchor=\"middle\" x=\"50%\" y=\"1em\">D</text><svg width=\"100%\" x=\"0%\" y=\"6em\"><defs/><text text-anchor=\"middle\" x=\"50%\" y=\"1em\">the</text></svg><line stroke=\"black\" x1=\"50%\" x2=\"50%\" y1=\"1.2em\" y2=\"6em\"/></svg><line stroke=\"black\" x1=\"50%\" x2=\"13.8889%\" y1=\"1.2em\" y2=\"3em\"/><svg width=\"72.2222%\" x=\"27.7778%\" y=\"3em\"><defs/><text text-anchor=\"middle\" x=\"50%\" y=\"1em\">N</text><svg width=\"100%\" x=\"0%\" y=\"6em\"><defs/><text text-anchor=\"middle\" x=\"50%\" y=\"1em\">rhinocerous</text></svg><line stroke=\"black\" x1=\"50%\" x2=\"50%\" y1=\"1.2em\" y2=\"6em\"/></svg><line stroke=\"black\" x1=\"50%\" x2=\"63.8889%\" y1=\"1.2em\" y2=\"3em\"/></svg><line stroke=\"black\" x1=\"50%\" x2=\"23.6842%\" y1=\"1.2em\" y2=\"3em\"/><svg width=\"52.6316%\" x=\"47.3684%\" y=\"3em\"><defs/><text text-anchor=\"middle\" x=\"50%\" y=\"1em\">VP</text><svg width=\"25%\" x=\"0%\" y=\"3em\"><defs/><text text-anchor=\"middle\" x=\"50%\" y=\"1em\">V</text><svg width=\"100%\" x=\"0%\" y=\"6em\"><defs/><text text-anchor=\"middle\" x=\"50%\" y=\"1em\">saw</text></svg><line stroke=\"black\" x1=\"50%\" x2=\"50%\" y1=\"1.2em\" y2=\"6em\"/></svg><line stroke=\"black\" x1=\"50%\" x2=\"12.5%\" y1=\"1.2em\" y2=\"3em\"/><svg width=\"75%\" x=\"25%\" y=\"3em\"><defs/><text text-anchor=\"middle\" x=\"50%\" y=\"1em\">NP</text><svg width=\"33.3333%\" x=\"0%\" y=\"3em\"><defs/><text text-anchor=\"middle\" x=\"50%\" y=\"1em\">D</text><svg width=\"100%\" x=\"0%\" y=\"3em\"><defs/><text text-anchor=\"middle\" x=\"50%\" y=\"1em\">the</text></svg><line stroke=\"black\" x1=\"50%\" x2=\"50%\" y1=\"1.2em\" y2=\"3em\"/></svg><line stroke=\"black\" x1=\"50%\" x2=\"16.6667%\" y1=\"1.2em\" y2=\"3em\"/><svg width=\"66.6667%\" x=\"33.3333%\" y=\"3em\"><defs/><text text-anchor=\"middle\" x=\"50%\" y=\"1em\">N</text><svg width=\"100%\" x=\"0%\" y=\"3em\"><defs/><text text-anchor=\"middle\" x=\"50%\" y=\"1em\">elephant</text></svg><line stroke=\"black\" x1=\"50%\" x2=\"50%\" y1=\"1.2em\" y2=\"3em\"/></svg><line stroke=\"black\" x1=\"50%\" x2=\"66.6667%\" y1=\"1.2em\" y2=\"3em\"/></svg><line stroke=\"black\" x1=\"50%\" x2=\"62.5%\" y1=\"1.2em\" y2=\"3em\"/></svg><line stroke=\"black\" x1=\"50%\" x2=\"73.6842%\" y1=\"1.2em\" y2=\"3em\"/></svg>"
      ],
      "text/plain": [
       "<IPython.core.display.SVG object>"
      ]
     },
     "execution_count": 191,
     "metadata": {},
     "output_type": "execute_result"
    }
   ],
   "source": [
    "svgling.draw_tree(t1, options=svgling.core.TreeOptions(leaf_nodes_align=True))"
   ]
  },
  {
   "cell_type": "code",
   "execution_count": 192,
   "metadata": {},
   "outputs": [
    {
     "data": {
      "image/svg+xml": [
       "<svg baseProfile=\"full\" height=\"14em\" version=\"1.1\" width=\"23em\" xmlns=\"http://www.w3.org/2000/svg\" xmlns:ev=\"http://www.w3.org/2001/xml-events\" xmlns:xlink=\"http://www.w3.org/1999/xlink\"><defs/><text text-anchor=\"middle\" x=\"50%\" y=\"1em\">S</text><svg width=\"39.1304%\" x=\"0%\" y=\"3em\"><defs/><text text-anchor=\"middle\" x=\"50%\" y=\"1em\">NP</text><svg width=\"27.7778%\" x=\"0%\" y=\"3em\"><defs/><text text-anchor=\"middle\" x=\"50%\" y=\"1em\">D</text><svg width=\"100%\" x=\"0%\" y=\"6em\"><defs/><text text-anchor=\"middle\" x=\"50%\" y=\"1em\">the</text></svg><line stroke=\"black\" x1=\"50%\" x2=\"50%\" y1=\"1.2em\" y2=\"6em\"/></svg><line stroke=\"black\" x1=\"50%\" x2=\"13.8889%\" y1=\"1.2em\" y2=\"3em\"/><svg width=\"72.2222%\" x=\"27.7778%\" y=\"3em\"><defs/><text text-anchor=\"middle\" x=\"50%\" y=\"1em\">N</text><svg width=\"100%\" x=\"0%\" y=\"6em\"><defs/><text text-anchor=\"middle\" x=\"50%\" y=\"1em\">rhinocerous</text></svg><line stroke=\"black\" x1=\"50%\" x2=\"50%\" y1=\"1.2em\" y2=\"6em\"/></svg><line stroke=\"black\" x1=\"50%\" x2=\"63.8889%\" y1=\"1.2em\" y2=\"3em\"/></svg><line stroke=\"black\" x1=\"50%\" x2=\"19.5652%\" y1=\"1.2em\" y2=\"3em\"/><svg width=\"60.8696%\" x=\"39.1304%\" y=\"3em\"><defs/><text text-anchor=\"middle\" x=\"50%\" y=\"1em\">VP</text><svg width=\"46.4286%\" x=\"0%\" y=\"3em\"><defs/><text text-anchor=\"middle\" x=\"50%\" y=\"1em\">V</text><svg width=\"38.4615%\" x=\"0%\" y=\"6em\"><defs/><text text-anchor=\"middle\" x=\"50%\" y=\"1em\">see</text></svg><line stroke=\"black\" x1=\"50%\" x2=\"19.2308%\" y1=\"1.2em\" y2=\"6em\"/><svg width=\"61.5385%\" x=\"38.4615%\" y=\"6em\"><defs/><text text-anchor=\"middle\" x=\"50%\" y=\"1em\">[PAST]</text></svg><line stroke=\"black\" x1=\"50%\" x2=\"69.2308%\" y1=\"1.2em\" y2=\"6em\"/></svg><line stroke=\"black\" x1=\"50%\" x2=\"23.2143%\" y1=\"1.2em\" y2=\"3em\"/><svg width=\"53.5714%\" x=\"46.4286%\" y=\"3em\"><defs/><text text-anchor=\"middle\" x=\"50%\" y=\"1em\">NP</text><svg width=\"33.3333%\" x=\"0%\" y=\"3em\"><defs/><text text-anchor=\"middle\" x=\"50%\" y=\"1em\">D</text><svg width=\"100%\" x=\"0%\" y=\"3em\"><defs/><text text-anchor=\"middle\" x=\"50%\" y=\"1em\">the</text></svg><line stroke=\"black\" x1=\"50%\" x2=\"50%\" y1=\"1.2em\" y2=\"3em\"/></svg><line stroke=\"black\" x1=\"50%\" x2=\"16.6667%\" y1=\"1.2em\" y2=\"3em\"/><svg width=\"66.6667%\" x=\"33.3333%\" y=\"3em\"><defs/><text text-anchor=\"middle\" x=\"50%\" y=\"1em\">N</text><svg width=\"100%\" x=\"0%\" y=\"3em\"><defs/><text text-anchor=\"middle\" x=\"50%\" y=\"1em\">elephant</text></svg><line stroke=\"black\" x1=\"50%\" x2=\"50%\" y1=\"1.2em\" y2=\"3em\"/></svg><line stroke=\"black\" x1=\"50%\" x2=\"66.6667%\" y1=\"1.2em\" y2=\"3em\"/></svg><line stroke=\"black\" x1=\"50%\" x2=\"73.2143%\" y1=\"1.2em\" y2=\"3em\"/></svg><line stroke=\"black\" x1=\"50%\" x2=\"69.5652%\" y1=\"1.2em\" y2=\"3em\"/></svg>"
      ],
      "text/plain": [
       "<IPython.core.display.SVG object>"
      ]
     },
     "execution_count": 192,
     "metadata": {},
     "output_type": "execute_result"
    }
   ],
   "source": [
    "t2 = (\"S\", (\"NP\", (\"D\", \"the\"), (\"N\", \"rhinocerous\")), (\"VP\", (\"V\", \"see\", \"[PAST]\"), (\"NP\", (\"D\", \"the\"), (\"N\", \"elephant\"))))\n",
    "svgling.draw_tree(t2, options=svgling.core.TreeOptions(leaf_nodes_align=True))"
   ]
  },
  {
   "cell_type": "markdown",
   "metadata": {},
   "source": [
    "Vertical spacing can be customized with `distance_to_daughter`, which stores a value in `em`s. Values less than about 1.5 are not recommended and will usually result in rendering problems. Here is an example of an extremely compact tree:"
   ]
  },
  {
   "cell_type": "code",
   "execution_count": 207,
   "metadata": {},
   "outputs": [
    {
     "data": {
      "image/svg+xml": [
       "<svg baseProfile=\"full\" height=\"8.4em\" version=\"1.1\" width=\"14.5em\" xmlns=\"http://www.w3.org/2000/svg\" xmlns:ev=\"http://www.w3.org/2001/xml-events\" xmlns:xlink=\"http://www.w3.org/1999/xlink\"><defs/><text text-anchor=\"middle\" x=\"50%\" y=\"1em\">S</text><svg width=\"49.6552%\" x=\"0%\" y=\"1.6em\"><defs/><text text-anchor=\"middle\" x=\"50%\" y=\"1em\">NP</text><svg width=\"22.2222%\" x=\"0%\" y=\"1.6em\"><defs/><text text-anchor=\"middle\" x=\"50%\" y=\"1em\">D</text><svg width=\"100%\" x=\"0%\" y=\"3.2em\"><defs/><text text-anchor=\"middle\" x=\"50%\" y=\"1em\">the</text></svg><line stroke=\"black\" x1=\"50%\" x2=\"50%\" y1=\"1.2em\" y2=\"3.2em\"/></svg><line stroke=\"black\" x1=\"50%\" x2=\"11.1111%\" y1=\"1.2em\" y2=\"1.6em\"/><svg width=\"77.7778%\" x=\"22.2222%\" y=\"1.6em\"><defs/><text text-anchor=\"middle\" x=\"50%\" y=\"1em\">N</text><svg width=\"100%\" x=\"0%\" y=\"3.2em\"><defs/><text text-anchor=\"middle\" x=\"50%\" y=\"1em\">rhinocerous</text></svg><line stroke=\"black\" x1=\"50%\" x2=\"50%\" y1=\"1.2em\" y2=\"3.2em\"/></svg><line stroke=\"black\" x1=\"50%\" x2=\"61.1111%\" y1=\"1.2em\" y2=\"1.6em\"/></svg><line stroke=\"black\" x1=\"50%\" x2=\"24.8276%\" y1=\"1.2em\" y2=\"1.6em\"/><svg width=\"50.3448%\" x=\"49.6552%\" y=\"1.6em\"><defs/><text text-anchor=\"middle\" x=\"50%\" y=\"1em\">VP</text><svg width=\"21.9178%\" x=\"0%\" y=\"1.6em\"><defs/><text text-anchor=\"middle\" x=\"50%\" y=\"1em\">V</text><svg width=\"100%\" x=\"0%\" y=\"3.2em\"><defs/><text text-anchor=\"middle\" x=\"50%\" y=\"1em\">saw</text></svg><line stroke=\"black\" x1=\"50%\" x2=\"50%\" y1=\"1.2em\" y2=\"3.2em\"/></svg><line stroke=\"black\" x1=\"50%\" x2=\"10.9589%\" y1=\"1.2em\" y2=\"1.6em\"/><svg width=\"78.0822%\" x=\"21.9178%\" y=\"1.6em\"><defs/><text text-anchor=\"middle\" x=\"50%\" y=\"1em\">NP</text><svg width=\"28.0702%\" x=\"0%\" y=\"1.6em\"><defs/><text text-anchor=\"middle\" x=\"50%\" y=\"1em\">D</text><svg width=\"100%\" x=\"0%\" y=\"1.6em\"><defs/><text text-anchor=\"middle\" x=\"50%\" y=\"1em\">the</text></svg><line stroke=\"black\" x1=\"50%\" x2=\"50%\" y1=\"1.2em\" y2=\"1.6em\"/></svg><line stroke=\"black\" x1=\"50%\" x2=\"14.0351%\" y1=\"1.2em\" y2=\"1.6em\"/><svg width=\"71.9298%\" x=\"28.0702%\" y=\"1.6em\"><defs/><text text-anchor=\"middle\" x=\"50%\" y=\"1em\">N</text><svg width=\"100%\" x=\"0%\" y=\"1.6em\"><defs/><text text-anchor=\"middle\" x=\"50%\" y=\"1em\">elephant</text></svg><line stroke=\"black\" x1=\"50%\" x2=\"50%\" y1=\"1.2em\" y2=\"1.6em\"/></svg><line stroke=\"black\" x1=\"50%\" x2=\"64.0351%\" y1=\"1.2em\" y2=\"1.6em\"/></svg><line stroke=\"black\" x1=\"50%\" x2=\"60.9589%\" y1=\"1.2em\" y2=\"1.6em\"/></svg><line stroke=\"black\" x1=\"50%\" x2=\"74.8276%\" y1=\"1.2em\" y2=\"1.6em\"/></svg>"
      ],
      "text/plain": [
       "<IPython.core.display.SVG object>"
      ]
     },
     "execution_count": 207,
     "metadata": {},
     "output_type": "execute_result"
    }
   ],
   "source": [
    "svgling.draw_tree(t1, options=svgling.core.TreeOptions(leaf_nodes_align=True, distance_to_daughter=1.6, leaf_padding=0.2))"
   ]
  },
  {
   "cell_type": "markdown",
   "metadata": {},
   "source": [
    "## NLTK integration\n",
    "\n",
    "The `svgling.draw_tree` function can handle nltk.Tree objects (or any object using the same API) transparently. Be warned that complex or multi-line labels won't work very well, though."
   ]
  },
  {
   "cell_type": "code",
   "execution_count": 194,
   "metadata": {},
   "outputs": [],
   "source": [
    "import nltk\n",
    "t3 = nltk.Tree.fromstring(\"(S (NP (D the) (N elephant)) (VP (V saw) (NP (D the) (N rhinocerous))))\")"
   ]
  },
  {
   "cell_type": "code",
   "execution_count": 195,
   "metadata": {},
   "outputs": [
    {
     "data": {
      "image/svg+xml": [
       "<svg baseProfile=\"full\" height=\"14em\" version=\"1.1\" width=\"19em\" xmlns=\"http://www.w3.org/2000/svg\" xmlns:ev=\"http://www.w3.org/2001/xml-events\" xmlns:xlink=\"http://www.w3.org/1999/xlink\"><defs/><text text-anchor=\"middle\" x=\"50%\" y=\"1em\">S</text><svg width=\"39.4737%\" x=\"0%\" y=\"3em\"><defs/><text text-anchor=\"middle\" x=\"50%\" y=\"1em\">NP</text><svg width=\"33.3333%\" x=\"0%\" y=\"3em\"><defs/><text text-anchor=\"middle\" x=\"50%\" y=\"1em\">D</text><svg width=\"100%\" x=\"0%\" y=\"3em\"><defs/><text text-anchor=\"middle\" x=\"50%\" y=\"1em\">the</text></svg><line stroke=\"black\" x1=\"50%\" x2=\"50%\" y1=\"1.2em\" y2=\"3em\"/></svg><line stroke=\"black\" x1=\"50%\" x2=\"16.6667%\" y1=\"1.2em\" y2=\"3em\"/><svg width=\"66.6667%\" x=\"33.3333%\" y=\"3em\"><defs/><text text-anchor=\"middle\" x=\"50%\" y=\"1em\">N</text><svg width=\"100%\" x=\"0%\" y=\"3em\"><defs/><text text-anchor=\"middle\" x=\"50%\" y=\"1em\">elephant</text></svg><line stroke=\"black\" x1=\"50%\" x2=\"50%\" y1=\"1.2em\" y2=\"3em\"/></svg><line stroke=\"black\" x1=\"50%\" x2=\"66.6667%\" y1=\"1.2em\" y2=\"3em\"/></svg><line stroke=\"black\" x1=\"50%\" x2=\"19.7368%\" y1=\"1.2em\" y2=\"3em\"/><svg width=\"60.5263%\" x=\"39.4737%\" y=\"3em\"><defs/><text text-anchor=\"middle\" x=\"50%\" y=\"1em\">VP</text><svg width=\"21.7391%\" x=\"0%\" y=\"3em\"><defs/><text text-anchor=\"middle\" x=\"50%\" y=\"1em\">V</text><svg width=\"100%\" x=\"0%\" y=\"3em\"><defs/><text text-anchor=\"middle\" x=\"50%\" y=\"1em\">saw</text></svg><line stroke=\"black\" x1=\"50%\" x2=\"50%\" y1=\"1.2em\" y2=\"3em\"/></svg><line stroke=\"black\" x1=\"50%\" x2=\"10.8696%\" y1=\"1.2em\" y2=\"3em\"/><svg width=\"78.2609%\" x=\"21.7391%\" y=\"3em\"><defs/><text text-anchor=\"middle\" x=\"50%\" y=\"1em\">NP</text><svg width=\"27.7778%\" x=\"0%\" y=\"3em\"><defs/><text text-anchor=\"middle\" x=\"50%\" y=\"1em\">D</text><svg width=\"100%\" x=\"0%\" y=\"3em\"><defs/><text text-anchor=\"middle\" x=\"50%\" y=\"1em\">the</text></svg><line stroke=\"black\" x1=\"50%\" x2=\"50%\" y1=\"1.2em\" y2=\"3em\"/></svg><line stroke=\"black\" x1=\"50%\" x2=\"13.8889%\" y1=\"1.2em\" y2=\"3em\"/><svg width=\"72.2222%\" x=\"27.7778%\" y=\"3em\"><defs/><text text-anchor=\"middle\" x=\"50%\" y=\"1em\">N</text><svg width=\"100%\" x=\"0%\" y=\"3em\"><defs/><text text-anchor=\"middle\" x=\"50%\" y=\"1em\">rhinocerous</text></svg><line stroke=\"black\" x1=\"50%\" x2=\"50%\" y1=\"1.2em\" y2=\"3em\"/></svg><line stroke=\"black\" x1=\"50%\" x2=\"63.8889%\" y1=\"1.2em\" y2=\"3em\"/></svg><line stroke=\"black\" x1=\"50%\" x2=\"60.8696%\" y1=\"1.2em\" y2=\"3em\"/></svg><line stroke=\"black\" x1=\"50%\" x2=\"69.7368%\" y1=\"1.2em\" y2=\"3em\"/></svg>"
      ],
      "text/plain": [
       "<IPython.core.display.SVG object>"
      ]
     },
     "execution_count": 195,
     "metadata": {},
     "output_type": "execute_result"
    }
   ],
   "source": [
    "svgling.draw_tree(t3)"
   ]
  },
  {
   "cell_type": "markdown",
   "metadata": {},
   "source": [
    "For convenience' sake, `svgling` will attempt to monkeypatch `nltk.Tree._repr_svg_` when imported (or reloaded). This means that as long as `svgling` is loaded, nltk trees should by default render using the svg format, overriding the default png-based renderer that is part of `nltk` (and its associated, fairly annoying, dependency on tk)."
   ]
  },
  {
   "cell_type": "code",
   "execution_count": 196,
   "metadata": {},
   "outputs": [
    {
     "data": {
      "image/png": "[encoded data removed]",
      "image/svg+xml": [
       "<svg baseProfile=\"full\" height=\"14em\" version=\"1.1\" width=\"19em\" xmlns=\"http://www.w3.org/2000/svg\" xmlns:ev=\"http://www.w3.org/2001/xml-events\" xmlns:xlink=\"http://www.w3.org/1999/xlink\"><defs /><text text-anchor=\"middle\" x=\"50%\" y=\"1em\">S</text><svg width=\"39.4737%\" x=\"0%\" y=\"3em\"><defs /><text text-anchor=\"middle\" x=\"50%\" y=\"1em\">NP</text><svg width=\"33.3333%\" x=\"0%\" y=\"3em\"><defs /><text text-anchor=\"middle\" x=\"50%\" y=\"1em\">D</text><svg width=\"100%\" x=\"0%\" y=\"3em\"><defs /><text text-anchor=\"middle\" x=\"50%\" y=\"1em\">the</text></svg><line stroke=\"black\" x1=\"50%\" x2=\"50%\" y1=\"1.2em\" y2=\"3em\" /></svg><line stroke=\"black\" x1=\"50%\" x2=\"16.6667%\" y1=\"1.2em\" y2=\"3em\" /><svg width=\"66.6667%\" x=\"33.3333%\" y=\"3em\"><defs /><text text-anchor=\"middle\" x=\"50%\" y=\"1em\">N</text><svg width=\"100%\" x=\"0%\" y=\"3em\"><defs /><text text-anchor=\"middle\" x=\"50%\" y=\"1em\">elephant</text></svg><line stroke=\"black\" x1=\"50%\" x2=\"50%\" y1=\"1.2em\" y2=\"3em\" /></svg><line stroke=\"black\" x1=\"50%\" x2=\"66.6667%\" y1=\"1.2em\" y2=\"3em\" /></svg><line stroke=\"black\" x1=\"50%\" x2=\"19.7368%\" y1=\"1.2em\" y2=\"3em\" /><svg width=\"60.5263%\" x=\"39.4737%\" y=\"3em\"><defs /><text text-anchor=\"middle\" x=\"50%\" y=\"1em\">VP</text><svg width=\"21.7391%\" x=\"0%\" y=\"3em\"><defs /><text text-anchor=\"middle\" x=\"50%\" y=\"1em\">V</text><svg width=\"100%\" x=\"0%\" y=\"3em\"><defs /><text text-anchor=\"middle\" x=\"50%\" y=\"1em\">saw</text></svg><line stroke=\"black\" x1=\"50%\" x2=\"50%\" y1=\"1.2em\" y2=\"3em\" /></svg><line stroke=\"black\" x1=\"50%\" x2=\"10.8696%\" y1=\"1.2em\" y2=\"3em\" /><svg width=\"78.2609%\" x=\"21.7391%\" y=\"3em\"><defs /><text text-anchor=\"middle\" x=\"50%\" y=\"1em\">NP</text><svg width=\"27.7778%\" x=\"0%\" y=\"3em\"><defs /><text text-anchor=\"middle\" x=\"50%\" y=\"1em\">D</text><svg width=\"100%\" x=\"0%\" y=\"3em\"><defs /><text text-anchor=\"middle\" x=\"50%\" y=\"1em\">the</text></svg><line stroke=\"black\" x1=\"50%\" x2=\"50%\" y1=\"1.2em\" y2=\"3em\" /></svg><line stroke=\"black\" x1=\"50%\" x2=\"13.8889%\" y1=\"1.2em\" y2=\"3em\" /><svg width=\"72.2222%\" x=\"27.7778%\" y=\"3em\"><defs /><text text-anchor=\"middle\" x=\"50%\" y=\"1em\">N</text><svg width=\"100%\" x=\"0%\" y=\"3em\"><defs /><text text-anchor=\"middle\" x=\"50%\" y=\"1em\">rhinocerous</text></svg><line stroke=\"black\" x1=\"50%\" x2=\"50%\" y1=\"1.2em\" y2=\"3em\" /></svg><line stroke=\"black\" x1=\"50%\" x2=\"63.8889%\" y1=\"1.2em\" y2=\"3em\" /></svg><line stroke=\"black\" x1=\"50%\" x2=\"60.8696%\" y1=\"1.2em\" y2=\"3em\" /></svg><line stroke=\"black\" x1=\"50%\" x2=\"69.7368%\" y1=\"1.2em\" y2=\"3em\" /></svg>"
      ],
      "text/plain": [
       "Tree('S', [Tree('NP', [Tree('D', ['the']), Tree('N', ['elephant'])]), Tree('VP', [Tree('V', ['saw']), Tree('NP', [Tree('D', ['the']), Tree('N', ['rhinocerous'])])])])"
      ]
     },
     "execution_count": 196,
     "metadata": {},
     "output_type": "execute_result"
    }
   ],
   "source": [
    "t3"
   ]
  },
  {
   "cell_type": "markdown",
   "metadata": {},
   "source": [
    "The rendering options for trees rendered this way can be customized via `svgling.core.nltk_tree_options`, though I don't recommend messing with the spacing too much. This object is created as a default `svgling.core.TreeOptions()`, in case you need to reset it."
   ]
  },
  {
   "cell_type": "code",
   "execution_count": 215,
   "metadata": {},
   "outputs": [
    {
     "data": {
      "image/png": "[encoded data removed]",
      "image/svg+xml": [
       "<svg baseProfile=\"full\" height=\"14em\" version=\"1.1\" width=\"19em\" xmlns=\"http://www.w3.org/2000/svg\" xmlns:ev=\"http://www.w3.org/2001/xml-events\" xmlns:xlink=\"http://www.w3.org/1999/xlink\"><defs /><text text-anchor=\"middle\" x=\"50%\" y=\"1em\">S</text><svg width=\"39.4737%\" x=\"0%\" y=\"3em\"><defs /><text text-anchor=\"middle\" x=\"50%\" y=\"1em\">NP</text><svg width=\"33.3333%\" x=\"0%\" y=\"3em\"><defs /><text text-anchor=\"middle\" x=\"50%\" y=\"1em\">D</text><svg width=\"100%\" x=\"0%\" y=\"6em\"><defs /><text text-anchor=\"middle\" x=\"50%\" y=\"1em\">the</text></svg><line stroke=\"black\" x1=\"50%\" x2=\"50%\" y1=\"1.2em\" y2=\"6em\" /></svg><line stroke=\"black\" x1=\"50%\" x2=\"16.6667%\" y1=\"1.2em\" y2=\"3em\" /><svg width=\"66.6667%\" x=\"33.3333%\" y=\"3em\"><defs /><text text-anchor=\"middle\" x=\"50%\" y=\"1em\">N</text><svg width=\"100%\" x=\"0%\" y=\"6em\"><defs /><text text-anchor=\"middle\" x=\"50%\" y=\"1em\">elephant</text></svg><line stroke=\"black\" x1=\"50%\" x2=\"50%\" y1=\"1.2em\" y2=\"6em\" /></svg><line stroke=\"black\" x1=\"50%\" x2=\"66.6667%\" y1=\"1.2em\" y2=\"3em\" /></svg><line stroke=\"black\" x1=\"50%\" x2=\"19.7368%\" y1=\"1.2em\" y2=\"3em\" /><svg width=\"60.5263%\" x=\"39.4737%\" y=\"3em\"><defs /><text text-anchor=\"middle\" x=\"50%\" y=\"1em\">VP</text><svg width=\"21.7391%\" x=\"0%\" y=\"3em\"><defs /><text text-anchor=\"middle\" x=\"50%\" y=\"1em\">V</text><svg width=\"100%\" x=\"0%\" y=\"6em\"><defs /><text text-anchor=\"middle\" x=\"50%\" y=\"1em\">saw</text></svg><line stroke=\"black\" x1=\"50%\" x2=\"50%\" y1=\"1.2em\" y2=\"6em\" /></svg><line stroke=\"black\" x1=\"50%\" x2=\"10.8696%\" y1=\"1.2em\" y2=\"3em\" /><svg width=\"78.2609%\" x=\"21.7391%\" y=\"3em\"><defs /><text text-anchor=\"middle\" x=\"50%\" y=\"1em\">NP</text><svg width=\"27.7778%\" x=\"0%\" y=\"3em\"><defs /><text text-anchor=\"middle\" x=\"50%\" y=\"1em\">D</text><svg width=\"100%\" x=\"0%\" y=\"3em\"><defs /><text text-anchor=\"middle\" x=\"50%\" y=\"1em\">the</text></svg><line stroke=\"black\" x1=\"50%\" x2=\"50%\" y1=\"1.2em\" y2=\"3em\" /></svg><line stroke=\"black\" x1=\"50%\" x2=\"13.8889%\" y1=\"1.2em\" y2=\"3em\" /><svg width=\"72.2222%\" x=\"27.7778%\" y=\"3em\"><defs /><text text-anchor=\"middle\" x=\"50%\" y=\"1em\">N</text><svg width=\"100%\" x=\"0%\" y=\"3em\"><defs /><text text-anchor=\"middle\" x=\"50%\" y=\"1em\">rhinocerous</text></svg><line stroke=\"black\" x1=\"50%\" x2=\"50%\" y1=\"1.2em\" y2=\"3em\" /></svg><line stroke=\"black\" x1=\"50%\" x2=\"63.8889%\" y1=\"1.2em\" y2=\"3em\" /></svg><line stroke=\"black\" x1=\"50%\" x2=\"60.8696%\" y1=\"1.2em\" y2=\"3em\" /></svg><line stroke=\"black\" x1=\"50%\" x2=\"69.7368%\" y1=\"1.2em\" y2=\"3em\" /></svg>"
      ],
      "text/plain": [
       "Tree('S', [Tree('NP', [Tree('D', ['the']), Tree('N', ['elephant'])]), Tree('VP', [Tree('V', ['saw']), Tree('NP', [Tree('D', ['the']), Tree('N', ['rhinocerous'])])])])"
      ]
     },
     "execution_count": 215,
     "metadata": {},
     "output_type": "execute_result"
    }
   ],
   "source": [
    "svgling.core.nltk_tree_options.leaf_nodes_align = True\n",
    "t3"
   ]
  },
  {
   "cell_type": "markdown",
   "metadata": {},
   "source": [
    "## Debug mode\n",
    "\n",
    "Sometimes, if a tree is not rendering how you expect, it may be helpful to view it in debug mode; this draws an `em` grid along with boxes for each subtree to show how it is doing positioning. This is set with the `debug` value on options objects."
   ]
  },
  {
   "cell_type": "code",
   "execution_count": 216,
   "metadata": {},
   "outputs": [
    {
     "data": {
      "image/png": "[encoded data removed]",
      "image/svg+xml": [
       "<svg baseProfile=\"full\" height=\"14em\" version=\"1.1\" width=\"19em\" xmlns=\"http://www.w3.org/2000/svg\" xmlns:ev=\"http://www.w3.org/2001/xml-events\" xmlns:xlink=\"http://www.w3.org/1999/xlink\"><defs /><rect fill=\"none\" height=\"100%\" stroke=\"lightgray\" width=\"100%\" x=\"0\" y=\"0\" /><line stroke=\"lightgray\" x1=\"1em\" x2=\"1em\" y1=\"0\" y2=\"100%\" /><line stroke=\"lightgray\" x1=\"2em\" x2=\"2em\" y1=\"0\" y2=\"100%\" /><line stroke=\"lightgray\" x1=\"3em\" x2=\"3em\" y1=\"0\" y2=\"100%\" /><line stroke=\"lightgray\" x1=\"4em\" x2=\"4em\" y1=\"0\" y2=\"100%\" /><line stroke=\"lightgray\" x1=\"5em\" x2=\"5em\" y1=\"0\" y2=\"100%\" /><line stroke=\"lightgray\" x1=\"6em\" x2=\"6em\" y1=\"0\" y2=\"100%\" /><line stroke=\"lightgray\" x1=\"7em\" x2=\"7em\" y1=\"0\" y2=\"100%\" /><line stroke=\"lightgray\" x1=\"8em\" x2=\"8em\" y1=\"0\" y2=\"100%\" /><line stroke=\"lightgray\" x1=\"9em\" x2=\"9em\" y1=\"0\" y2=\"100%\" /><line stroke=\"lightgray\" x1=\"10em\" x2=\"10em\" y1=\"0\" y2=\"100%\" /><line stroke=\"lightgray\" x1=\"11em\" x2=\"11em\" y1=\"0\" y2=\"100%\" /><line stroke=\"lightgray\" x1=\"12em\" x2=\"12em\" y1=\"0\" y2=\"100%\" /><line stroke=\"lightgray\" x1=\"13em\" x2=\"13em\" y1=\"0\" y2=\"100%\" /><line stroke=\"lightgray\" x1=\"14em\" x2=\"14em\" y1=\"0\" y2=\"100%\" /><line stroke=\"lightgray\" x1=\"15em\" x2=\"15em\" y1=\"0\" y2=\"100%\" /><line stroke=\"lightgray\" x1=\"16em\" x2=\"16em\" y1=\"0\" y2=\"100%\" /><line stroke=\"lightgray\" x1=\"17em\" x2=\"17em\" y1=\"0\" y2=\"100%\" /><line stroke=\"lightgray\" x1=\"18em\" x2=\"18em\" y1=\"0\" y2=\"100%\" /><line stroke=\"lightgray\" x1=\"0\" x2=\"100%\" y1=\"1em\" y2=\"1em\" /><line stroke=\"lightgray\" x1=\"0\" x2=\"100%\" y1=\"2em\" y2=\"2em\" /><line stroke=\"lightgray\" x1=\"0\" x2=\"100%\" y1=\"3em\" y2=\"3em\" /><line stroke=\"lightgray\" x1=\"0\" x2=\"100%\" y1=\"4em\" y2=\"4em\" /><line stroke=\"lightgray\" x1=\"0\" x2=\"100%\" y1=\"5em\" y2=\"5em\" /><line stroke=\"lightgray\" x1=\"0\" x2=\"100%\" y1=\"6em\" y2=\"6em\" /><line stroke=\"lightgray\" x1=\"0\" x2=\"100%\" y1=\"7em\" y2=\"7em\" /><line stroke=\"lightgray\" x1=\"0\" x2=\"100%\" y1=\"8em\" y2=\"8em\" /><line stroke=\"lightgray\" x1=\"0\" x2=\"100%\" y1=\"9em\" y2=\"9em\" /><line stroke=\"lightgray\" x1=\"0\" x2=\"100%\" y1=\"10em\" y2=\"10em\" /><line stroke=\"lightgray\" x1=\"0\" x2=\"100%\" y1=\"11em\" y2=\"11em\" /><line stroke=\"lightgray\" x1=\"0\" x2=\"100%\" y1=\"12em\" y2=\"12em\" /><line stroke=\"lightgray\" x1=\"0\" x2=\"100%\" y1=\"13em\" y2=\"13em\" /><text text-anchor=\"middle\" x=\"50%\" y=\"1em\">S</text><svg width=\"39.4737%\" x=\"0%\" y=\"3em\"><defs /><rect fill=\"none\" height=\"100%\" stroke=\"red\" width=\"100%\" x=\"0%\" y=\"0%\" /><text text-anchor=\"middle\" x=\"50%\" y=\"1em\">NP</text><svg width=\"33.3333%\" x=\"0%\" y=\"3em\"><defs /><rect fill=\"none\" height=\"100%\" stroke=\"red\" width=\"100%\" x=\"0%\" y=\"0%\" /><text text-anchor=\"middle\" x=\"50%\" y=\"1em\">D</text><svg width=\"100%\" x=\"0%\" y=\"6em\"><defs /><rect fill=\"none\" height=\"100%\" stroke=\"red\" width=\"100%\" x=\"0%\" y=\"0%\" /><text text-anchor=\"middle\" x=\"50%\" y=\"1em\">the</text></svg><line stroke=\"black\" x1=\"50%\" x2=\"50%\" y1=\"1.2em\" y2=\"6em\" /></svg><line stroke=\"black\" x1=\"50%\" x2=\"16.6667%\" y1=\"1.2em\" y2=\"3em\" /><svg width=\"66.6667%\" x=\"33.3333%\" y=\"3em\"><defs /><rect fill=\"none\" height=\"100%\" stroke=\"red\" width=\"100%\" x=\"0%\" y=\"0%\" /><text text-anchor=\"middle\" x=\"50%\" y=\"1em\">N</text><svg width=\"100%\" x=\"0%\" y=\"6em\"><defs /><rect fill=\"none\" height=\"100%\" stroke=\"red\" width=\"100%\" x=\"0%\" y=\"0%\" /><text text-anchor=\"middle\" x=\"50%\" y=\"1em\">elephant</text></svg><line stroke=\"black\" x1=\"50%\" x2=\"50%\" y1=\"1.2em\" y2=\"6em\" /></svg><line stroke=\"black\" x1=\"50%\" x2=\"66.6667%\" y1=\"1.2em\" y2=\"3em\" /></svg><line stroke=\"black\" x1=\"50%\" x2=\"19.7368%\" y1=\"1.2em\" y2=\"3em\" /><svg width=\"60.5263%\" x=\"39.4737%\" y=\"3em\"><defs /><rect fill=\"none\" height=\"100%\" stroke=\"red\" width=\"100%\" x=\"0%\" y=\"0%\" /><text text-anchor=\"middle\" x=\"50%\" y=\"1em\">VP</text><svg width=\"21.7391%\" x=\"0%\" y=\"3em\"><defs /><rect fill=\"none\" height=\"100%\" stroke=\"red\" width=\"100%\" x=\"0%\" y=\"0%\" /><text text-anchor=\"middle\" x=\"50%\" y=\"1em\">V</text><svg width=\"100%\" x=\"0%\" y=\"6em\"><defs /><rect fill=\"none\" height=\"100%\" stroke=\"red\" width=\"100%\" x=\"0%\" y=\"0%\" /><text text-anchor=\"middle\" x=\"50%\" y=\"1em\">saw</text></svg><line stroke=\"black\" x1=\"50%\" x2=\"50%\" y1=\"1.2em\" y2=\"6em\" /></svg><line stroke=\"black\" x1=\"50%\" x2=\"10.8696%\" y1=\"1.2em\" y2=\"3em\" /><svg width=\"78.2609%\" x=\"21.7391%\" y=\"3em\"><defs /><rect fill=\"none\" height=\"100%\" stroke=\"red\" width=\"100%\" x=\"0%\" y=\"0%\" /><text text-anchor=\"middle\" x=\"50%\" y=\"1em\">NP</text><svg width=\"27.7778%\" x=\"0%\" y=\"3em\"><defs /><rect fill=\"none\" height=\"100%\" stroke=\"red\" width=\"100%\" x=\"0%\" y=\"0%\" /><text text-anchor=\"middle\" x=\"50%\" y=\"1em\">D</text><svg width=\"100%\" x=\"0%\" y=\"3em\"><defs /><rect fill=\"none\" height=\"100%\" stroke=\"red\" width=\"100%\" x=\"0%\" y=\"0%\" /><text text-anchor=\"middle\" x=\"50%\" y=\"1em\">the</text></svg><line stroke=\"black\" x1=\"50%\" x2=\"50%\" y1=\"1.2em\" y2=\"3em\" /></svg><line stroke=\"black\" x1=\"50%\" x2=\"13.8889%\" y1=\"1.2em\" y2=\"3em\" /><svg width=\"72.2222%\" x=\"27.7778%\" y=\"3em\"><defs /><rect fill=\"none\" height=\"100%\" stroke=\"red\" width=\"100%\" x=\"0%\" y=\"0%\" /><text text-anchor=\"middle\" x=\"50%\" y=\"1em\">N</text><svg width=\"100%\" x=\"0%\" y=\"3em\"><defs /><rect fill=\"none\" height=\"100%\" stroke=\"red\" width=\"100%\" x=\"0%\" y=\"0%\" /><text text-anchor=\"middle\" x=\"50%\" y=\"1em\">rhinocerous</text></svg><line stroke=\"black\" x1=\"50%\" x2=\"50%\" y1=\"1.2em\" y2=\"3em\" /></svg><line stroke=\"black\" x1=\"50%\" x2=\"63.8889%\" y1=\"1.2em\" y2=\"3em\" /></svg><line stroke=\"black\" x1=\"50%\" x2=\"60.8696%\" y1=\"1.2em\" y2=\"3em\" /></svg><line stroke=\"black\" x1=\"50%\" x2=\"69.7368%\" y1=\"1.2em\" y2=\"3em\" /></svg>"
      ],
      "text/plain": [
       "Tree('S', [Tree('NP', [Tree('D', ['the']), Tree('N', ['elephant'])]), Tree('VP', [Tree('V', ['saw']), Tree('NP', [Tree('D', ['the']), Tree('N', ['rhinocerous'])])])])"
      ]
     },
     "execution_count": 216,
     "metadata": {},
     "output_type": "execute_result"
    }
   ],
   "source": [
    "svgling.core.nltk_tree_options.debug = True\n",
    "t3"
   ]
  },
  {
   "cell_type": "markdown",
   "metadata": {},
   "source": [
    "## Further customization\n",
    "\n",
    "Because of the nature of SVG, various aspects of trees are very easy to customize, and various things that would be nice to have are nonetheless extremely hard to do. Even things that aren't exposed in the `svgling` API may be pretty easy to do with some light under-the-hood customization of the tree rendering code. If you have specific requests, let me know.\n",
    "\n",
    "Things that would be easy, if anyone actually wants them:\n",
    "* change colors of text, have some nodes be italic/bolded\n",
    "* change line stroke / width\n",
    "* other graphical customization of what is currently rendered, SVG is pretty powerful.\n",
    "\n",
    "Things that might be possible, but not easy:\n",
    "* draw movement arrows (getting the `x` positions is tricky, but not impossible.)\n",
    "* draw a triangle of laziness (I haven't implemented this yet just because my main use case is actual parsed data where you can't do this, but I probably will implement it). This is only tricky because it requires estimating text width accurately to look good.\n",
    "* labels along edges? SVG has pretty good support for this but I don't (currently) know how to use it, so it might actually be easy.\n",
    "\n",
    "Things that are quite hard, but desirable (most of these need multi-pass rendering to do right):\n",
    "* resize trees based on actual node sizes.\n",
    "* support complex (e.g. multi-line) nodes.\n",
    "* put MathJax in nodes, perhaps using SVG `foreignObject`. Support `foreignObject` nodes in general. (This requires being able to calculate node sizes, too.)\n",
    "* allow positioning of nodes or interactive trees via javascript.\n",
    "* export to raster format. (Perhaps via inkscape?)\n"
   ]
  },
  {
   "cell_type": "code",
   "execution_count": null,
   "metadata": {},
   "outputs": [],
   "source": []
  }
 ],
 "metadata": {
  "kernelspec": {
   "display_name": "Python 3",
   "language": "python",
   "name": "python3"
  },
  "language_info": {
   "codemirror_mode": {
    "name": "ipython",
    "version": 3
   },
   "file_extension": ".py",
   "mimetype": "text/x-python",
   "name": "python",
   "nbconvert_exporter": "python",
   "pygments_lexer": "ipython3",
   "version": "3.6.6"
  }
 },
 "nbformat": 4,
 "nbformat_minor": 2
}
